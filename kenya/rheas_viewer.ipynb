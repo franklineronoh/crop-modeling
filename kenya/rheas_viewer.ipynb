{
 "cells": [
  {
   "cell_type": "code",
   "execution_count": 77,
   "metadata": {},
   "outputs": [],
   "source": [
    "# importing modules\n",
    "import pandas as pd\n",
    "import numpy as np\n",
    "import pandas as pd\n",
    "import geopandas as gpd\n",
    "from bokeh.layouts import gridplot\n",
    "from bokeh.plotting import figure, show\n",
    "from bokeh.models import GeoJSONDataSource, ColumnDataSource, HoverTool\n",
    "from bokeh.palettes import Viridis256, Inferno256, Magma256\n",
    "from bokeh.palettes import BrBG, PiYG, RdGy, RdYlGn, YlGnBu\n",
    "from bokeh.models import LinearColorMapper, ColorBar\n",
    "#import streamlit as st\n",
    "# #from streamlit_folium import st_folium\n",
    "#import folium\n",
    "#from leaflet import Map, GeoJSON"
   ]
  },
  {
   "cell_type": "code",
   "execution_count": 78,
   "metadata": {},
   "outputs": [],
   "source": [
    "# Reading the data\n",
    "rheas_tamsat_raw=pd.read_csv('data/rheas_tamsat/ken_n_25_tamsat_cultivar1_fert5_2015_2023_maize.csv')\n",
    "# rheas_tamsat_raw=pd.read_csv('data/rheas_tamsat/maize_ken_n_25_tamsat.csv')"
   ]
  },
  {
   "cell_type": "code",
   "execution_count": 79,
   "metadata": {},
   "outputs": [],
   "source": [
    "# change dates to months or years\n",
    "rheas_tamsat_raw['planting']=pd.to_datetime(rheas_tamsat_raw['planting'], format='ISO8601')\n",
    "rheas_tamsat_raw['harvest']=pd.to_datetime(rheas_tamsat_raw['harvest'], format='ISO8601')\n",
    "rheas_tamsat_raw['harvest']=pd.to_datetime(rheas_tamsat_raw['harvest'], format='ISO8601')\n",
    "rheas_tamsat_raw['year'] = rheas_tamsat_raw['planting'].dt.year\n",
    "rheas_tamsat_raw['year'] = rheas_tamsat_raw['planting'].dt.year\n",
    "# rheas_tamsat_raw['harvest']=pd.to_datetime(rheas_tamsat_raw['harvest'], format='%Y/%m/%d')\n",
    "\n",
    "\n",
    "# calculate yield\n",
    "rheas_tamsat_raw['yield']=rheas_tamsat_raw['gwad']/1000\n"
   ]
  },
  {
   "cell_type": "code",
   "execution_count": 80,
   "metadata": {},
   "outputs": [],
   "source": [
    "# unimodal season\n",
    "unimodal_season =[9, 10, 11, 12, 1,2, 3, 4]\n",
    "unimodal_season = ['NONE', 'NONE', 'MAM', 'MAM','MAM', 'NONE', 'NONE', 'NONE', 'NONE', 'OND', 'OND', 'OND']\n",
    "month_to_season=dict(zip(range(1,13), seasons))\n",
    "month_to_season\n",
    "rheas_tamsat_raw['season']= rheas_tamsat_raw['planting'].dt.month.map(month_to_season)\n",
    "\n",
    "# bimodal season\n",
    "bimodal_season = [1, 2, 3, 4]\n",
    "bimodal_season = ['NONE', 'NONE', 'MAM', 'MAM','MAM', 'NONE', 'NONE', 'NONE', 'NONE', 'OND', 'OND', 'OND']\n",
    "\n",
    "# # Extract data only for MAM and OND\n",
    "rheas_tamsat_MAM= rheas_tamsat_raw.loc[rheas_tamsat_raw['season']=='MAM']\n",
    "rheas_tamsat_OND=rheas_tamsat_raw.loc[rheas_tamsat_raw['season']=='OND']\n",
    "# extract data for 2023 only\n",
    "rheas_tamsat_MAM_2023=rheas_tamsat_MAM[rheas_tamsat_MAM['year']==2023]\n",
    "rheas_tamsat_OND_2022=rheas_tamsat_MAM[rheas_tamsat_MAM['year']==2022]\n",
    "\n",
    "# aggregate \n",
    "rheas_tamsat_MAM_2023=rheas_tamsat_MAM.groupby(['cname'], as_index=False).agg({'yield': 'mean'})\n",
    "rheas_tamsat_OND_2022=rheas_tamsat_OND.groupby(['cname'], as_index=False).agg({'yield': 'mean'})"
   ]
  },
  {
   "cell_type": "code",
   "execution_count": 1,
   "metadata": {},
   "outputs": [
    {
     "ename": "NameError",
     "evalue": "name 'gpd' is not defined",
     "output_type": "error",
     "traceback": [
      "\u001b[1;31m---------------------------------------------------------------------------\u001b[0m",
      "\u001b[1;31mNameError\u001b[0m                                 Traceback (most recent call last)",
      "Cell \u001b[1;32mIn[1], line 1\u001b[0m\n\u001b[1;32m----> 1\u001b[0m tanzania_shp \u001b[39m=\u001b[39m gpd\u001b[39m.\u001b[39mread_file(\u001b[39m\"\u001b[39m\u001b[39mshp/gadm36_TZA_2_LongRain.shp\u001b[39m\u001b[39m\"\u001b[39m)\n\u001b[0;32m      2\u001b[0m \u001b[39m# Rename kenya_shp \u001b[39;00m\n\u001b[0;32m      4\u001b[0m tanzania_unimodal_shp\u001b[39m=\u001b[39mtanzania_unimodal_shp\u001b[39m.\u001b[39mrename(columns\u001b[39m=\u001b[39m{\u001b[39m'\u001b[39m\u001b[39mNAME1\u001b[39m\u001b[39m'\u001b[39m:\u001b[39m'\u001b[39m\u001b[39mcname\u001b[39m\u001b[39m'\u001b[39m})\n",
      "\u001b[1;31mNameError\u001b[0m: name 'gpd' is not defined"
     ]
    }
   ],
   "source": [
    "# Read shapefiles and rename columns\n",
    "country_shapefile = gpd.read_file(\"shp/gadm36_TZA_2_LongRain.shp\")\n",
    "tanzania_unimodal_shp = gpd.read_file(\"shp/gadm36_TZA_2_LongRain.shp\")\n",
    "tanzania_bimodal_shp = gpd.read_file(\"shp/gadm36_TZA_2_Bimodal.shp\")\n",
    "\n",
    "# Rename kenya_shp \n",
    "tanzania_unimodal_shp=tanzania_unimodal_shp.rename(columns={'NAME1':'cname'})\n",
    "tanzania_bimodal_shp=tanzania_unimodal_shp.rename(columns={'NAME1':'cname'})"
   ]
  },
  {
   "cell_type": "code",
   "execution_count": null,
   "metadata": {},
   "outputs": [],
   "source": [
    "# Merge data into shapefiles\n",
    "unimodal = pd.merge(tanzania_unimodal_shp, rheas_tamsat_unimodal_2022, on=\"cname\")\n",
    "bimodal = pd.merge(tanzania_bimodal_shp, rheas_tamsat_bimodal_2022, on=\"cname\")"
   ]
  },
  {
   "cell_type": "code",
   "execution_count": 82,
   "metadata": {},
   "outputs": [],
   "source": [
    "geo_source_unimodal = GeoJSONDataSource(geojson=unimodal.to_json())\n",
    "geo_source_bimodal = GeoJSONDataSource(geojson=bimodal.to_json())\n",
    "country_geo_source = GeoJSONDataSource(geojson=country_shapefile.to_json())"
   ]
  },
  {
   "cell_type": "code",
   "execution_count": 90,
   "metadata": {},
   "outputs": [],
   "source": [
    "color_mapper = LinearColorMapper(palette=\"RdBu10\", low=3.0, high=3.5)\n",
    "p1 = figure(title='Long Rains  Season MAM Yield (Mt/Ha) - 2023',\n",
    "           outer_width=650, outer_height=600)\n",
    "\n",
    "p1.multi_line('xs','ys', source=country_geo_source,\n",
    "            line_color='black', line_width=0.5)\n",
    "\n",
    "p1.patches('xs','ys', source=geo_source_unimodal,\n",
    "          fill_color={'field': 'yield', 'transform': color_mapper},\n",
    "          fill_alpha=0.7, line_color='black', line_width=0.5)\n",
    "\n",
    "hover = HoverTool(tooltips=[('Province: ', '@cname'), ('Yield', '@yield')])\n",
    "p1.add_tools(hover)\n",
    "\n",
    "color_bar = ColorBar(color_mapper=color_mapper, label_standoff=8, width=20, height=300,\n",
    "                     border_line_color=None, location=(0,0), orientation='vertical')\n",
    "p1.add_layout(color_bar, 'right')"
   ]
  },
  {
   "cell_type": "code",
   "execution_count": 84,
   "metadata": {},
   "outputs": [],
   "source": [
    "color_mapper = LinearColorMapper(palette=\"RdBu10\", low=3.0, high=3.5)\n",
    "p2 = figure(title='Long Rains Season MAM Yield (Mt/Ha) - 2022',\n",
    "           outer_width=650, outer_height=600)\n",
    "\n",
    "p2.multi_line('xs','ys', source=country_geo_source,\n",
    "            line_color='black', line_width=0.5)\n",
    "\n",
    "p2.patches('xs','ys', source=geo_source_bimodal,\n",
    "          fill_color={'field': 'yield', 'transform': color_mapper},\n",
    "          fill_alpha=0.7, line_color='black', line_width=0.5)\n",
    "\n",
    "hover = HoverTool(tooltips=[('Province: ', '@cname'), ('Yield', '@yield')])\n",
    "p2.add_tools(hover)\n",
    "\n",
    "color_bar = ColorBar(color_mapper=color_mapper, label_standoff=8, width=20, height=300,\n",
    "                     border_line_color=None, location=(0,0), orientation='vertical')\n",
    "p2.add_layout(color_bar, 'right')"
   ]
  },
  {
   "cell_type": "code",
   "execution_count": 85,
   "metadata": {},
   "outputs": [],
   "source": [
    "# Short Rains Season 2022\n",
    "# color_mapper1 = LinearColorMapper(palette=\"RdBu10\", low=3.0, high=3.5)\n",
    "# p3 = figure(title='Short Rains Season OND Yield(Mt/Ha) - 2022',\n",
    "#            outer_width=650, outer_height=600)\n",
    "\n",
    "# p3.multi_line('xs','ys', source=country_geo_source,\n",
    "#             line_color='black', line_width=0.5)\n",
    "\n",
    "# p3.patches('xs','ys', source=geo_source_OND,\n",
    "#           fill_color={'field': 'yield', 'transform': color_mapper1},\n",
    "#           fill_alpha=0.7, line_color='black', line_width=0.5)\n",
    "\n",
    "# hover = HoverTool(tooltips=[('County', '@cname'), ('Yield', '@yield')])\n",
    "# p3.add_tools(hover)\n",
    "\n",
    "# color_bar = ColorBar(color_mapper=color_mapper1, label_standoff=8, width=20, height=300,\n",
    "#                      border_line_color=None, location=(0,0), orientation='vertical')\n",
    "# p3.add_layout(color_bar, 'right')"
   ]
  },
  {
   "cell_type": "code",
   "execution_count": 86,
   "metadata": {},
   "outputs": [],
   "source": [
    "# Short Rains Season 2022\n",
    "# color_mapper1 = LinearColorMapper(palette=\"RdBu10\", low=3.0, high=3.5)\n",
    "# p4 = figure(title='Short Rains Season OND Yield(Mt/Ha) - 2021',\n",
    "#            outer_width=650, outer_height=600)\n",
    "\n",
    "# p4.multi_line('xs','ys', source=country_geo_source,\n",
    "#             line_color='black', line_width=0.5)\n",
    "\n",
    "# p4.patches('xs','ys', source=geo_source_OND,\n",
    "#           fill_color={'field': 'yield', 'transform': color_mapper1},\n",
    "#           fill_alpha=0.7, line_color='black', line_width=0.5)\n",
    "\n",
    "# hover = HoverTool(tooltips=[('County', '@cname'), ('Yield', '@yield')])\n",
    "# p4.add_tools(hover)\n",
    "\n",
    "# color_bar = ColorBar(color_mapper=color_mapper1, label_standoff=8, width=20, height=300,\n",
    "#                      border_line_color=None, location=(0,0), orientation='vertical')\n",
    "# p4.add_layout(color_bar, 'right')"
   ]
  },
  {
   "cell_type": "code",
   "execution_count": 87,
   "metadata": {},
   "outputs": [],
   "source": [
    "\n",
    "# p=gridplot([[p1, p2], [p3, p4]], width=650, height=600)\n",
    "show(p1)"
   ]
  },
  {
   "cell_type": "code",
   "execution_count": 88,
   "metadata": {},
   "outputs": [],
   "source": [
    "# from bokeh.io import save\n",
    "# # specify the output file name and location\n",
    "# save(p, filename='yield_map.html', title='Yield Data Map')"
   ]
  },
  {
   "cell_type": "code",
   "execution_count": 89,
   "metadata": {},
   "outputs": [],
   "source": [
    "# from bokeh.io import save\n",
    "\n",
    "# specify the output file name and location\n",
    "# save(p, filename='yield_map.html', title='Yield Data Map')"
   ]
  }
 ],
 "metadata": {
  "kernelspec": {
   "display_name": "Python 3",
   "language": "python",
   "name": "python3"
  },
  "language_info": {
   "codemirror_mode": {
    "name": "ipython",
    "version": 3
   },
   "file_extension": ".py",
   "mimetype": "text/x-python",
   "name": "python",
   "nbconvert_exporter": "python",
   "pygments_lexer": "ipython3",
   "version": "3.11.0"
  },
  "orig_nbformat": 4,
  "vscode": {
   "interpreter": {
    "hash": "f745412fe046abefa732567d83acd42b32594d10d0c166ca5878f9c42d7fed86"
   }
  }
 },
 "nbformat": 4,
 "nbformat_minor": 2
}
