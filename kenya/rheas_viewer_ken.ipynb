{
 "cells": [
  {
   "cell_type": "code",
   "execution_count": 362,
   "metadata": {},
   "outputs": [],
   "source": [
    "# importing modules\n",
    "import pandas as pd\n",
    "import numpy as np\n",
    "import pandas as pd\n",
    "import geopandas as gpd\n",
    "from bokeh.layouts import gridplot\n",
    "from bokeh.plotting import figure, show\n",
    "from bokeh.models import GeoJSONDataSource, ColumnDataSource, HoverTool\n",
    "from bokeh.palettes import Viridis256, Inferno256, Magma256\n",
    "from bokeh.palettes import BrBG, PiYG, RdGy, RdYlGn, YlGnBu\n",
    "from bokeh.models import LinearColorMapper, ColorBar\n",
    "#import streamlit as st\n",
    "# #from streamlit_folium import st_folium\n",
    "#import folium\n",
    "#from leaflet import Map, GeoJSON"
   ]
  },
  {
   "cell_type": "code",
   "execution_count": 363,
   "metadata": {},
   "outputs": [],
   "source": [
    "# import psycopg2\n",
    "# conn=psycopg2.connect(database='kenya', host='217.21.122.227', user='servir', password='Rcmrd@2022', port=5432)\n",
    "# cursor=conn.cursor()\n",
    "# cursor.execute('SELECT cname, season, planting, harvest, lai, gwad FROM ken_n_25_tamsat.dssat')\n",
    "# rheas_raw=pd.DataFrame(cursor.fetchall())\n",
    "# rheas_raw.rename(columns={0:'cname',1:'season',2:'planting',3:'harvest',4:'lai',5:'gwad'},inplace=True)"
   ]
  },
  {
   "cell_type": "code",
   "execution_count": 364,
   "metadata": {},
   "outputs": [
    {
     "data": {
      "text/html": [
       "<div>\n",
       "<style scoped>\n",
       "    .dataframe tbody tr th:only-of-type {\n",
       "        vertical-align: middle;\n",
       "    }\n",
       "\n",
       "    .dataframe tbody tr th {\n",
       "        vertical-align: top;\n",
       "    }\n",
       "\n",
       "    .dataframe thead th {\n",
       "        text-align: right;\n",
       "    }\n",
       "</style>\n",
       "<table border=\"1\" class=\"dataframe\">\n",
       "  <thead>\n",
       "    <tr style=\"text-align: right;\">\n",
       "      <th></th>\n",
       "      <th>cname</th>\n",
       "      <th>season</th>\n",
       "      <th>planting</th>\n",
       "      <th>harvest</th>\n",
       "      <th>lai</th>\n",
       "      <th>gwad</th>\n",
       "    </tr>\n",
       "  </thead>\n",
       "  <tbody>\n",
       "    <tr>\n",
       "      <th>0</th>\n",
       "      <td>Baringo</td>\n",
       "      <td>2021 2</td>\n",
       "      <td>2021-10-01</td>\n",
       "      <td>2022-01-16</td>\n",
       "      <td>0.69</td>\n",
       "      <td>4337.0</td>\n",
       "    </tr>\n",
       "    <tr>\n",
       "      <th>1</th>\n",
       "      <td>Baringo</td>\n",
       "      <td>2021 2</td>\n",
       "      <td>2021-10-26</td>\n",
       "      <td>2022-02-09</td>\n",
       "      <td>0.67</td>\n",
       "      <td>4286.0</td>\n",
       "    </tr>\n",
       "    <tr>\n",
       "      <th>2</th>\n",
       "      <td>Baringo</td>\n",
       "      <td>2021 2</td>\n",
       "      <td>2021-10-09</td>\n",
       "      <td>2022-01-22</td>\n",
       "      <td>0.65</td>\n",
       "      <td>4246.0</td>\n",
       "    </tr>\n",
       "    <tr>\n",
       "      <th>3</th>\n",
       "      <td>Baringo</td>\n",
       "      <td>2021 2</td>\n",
       "      <td>2021-10-15</td>\n",
       "      <td>2022-01-29</td>\n",
       "      <td>0.63</td>\n",
       "      <td>4328.0</td>\n",
       "    </tr>\n",
       "    <tr>\n",
       "      <th>4</th>\n",
       "      <td>Baringo</td>\n",
       "      <td>2021 2</td>\n",
       "      <td>2021-10-24</td>\n",
       "      <td>2022-02-07</td>\n",
       "      <td>0.67</td>\n",
       "      <td>4389.0</td>\n",
       "    </tr>\n",
       "    <tr>\n",
       "      <th>...</th>\n",
       "      <td>...</td>\n",
       "      <td>...</td>\n",
       "      <td>...</td>\n",
       "      <td>...</td>\n",
       "      <td>...</td>\n",
       "      <td>...</td>\n",
       "    </tr>\n",
       "    <tr>\n",
       "      <th>7515</th>\n",
       "      <td>Mandera</td>\n",
       "      <td>2023 1</td>\n",
       "      <td>2023-03-28</td>\n",
       "      <td>2023-07-28</td>\n",
       "      <td>1.34</td>\n",
       "      <td>3108.0</td>\n",
       "    </tr>\n",
       "    <tr>\n",
       "      <th>7516</th>\n",
       "      <td>Mandera</td>\n",
       "      <td>2023 1</td>\n",
       "      <td>2023-03-14</td>\n",
       "      <td>2023-07-11</td>\n",
       "      <td>1.45</td>\n",
       "      <td>3128.0</td>\n",
       "    </tr>\n",
       "    <tr>\n",
       "      <th>7517</th>\n",
       "      <td>Mandera</td>\n",
       "      <td>2023 1</td>\n",
       "      <td>2023-03-30</td>\n",
       "      <td>2023-07-29</td>\n",
       "      <td>1.40</td>\n",
       "      <td>3106.0</td>\n",
       "    </tr>\n",
       "    <tr>\n",
       "      <th>7518</th>\n",
       "      <td>Mandera</td>\n",
       "      <td>2023 1</td>\n",
       "      <td>2023-03-10</td>\n",
       "      <td>2023-07-04</td>\n",
       "      <td>1.41</td>\n",
       "      <td>3128.0</td>\n",
       "    </tr>\n",
       "    <tr>\n",
       "      <th>7519</th>\n",
       "      <td>Mandera</td>\n",
       "      <td>2023 1</td>\n",
       "      <td>2023-03-21</td>\n",
       "      <td>2023-07-18</td>\n",
       "      <td>1.37</td>\n",
       "      <td>3107.0</td>\n",
       "    </tr>\n",
       "  </tbody>\n",
       "</table>\n",
       "<p>7520 rows × 6 columns</p>\n",
       "</div>"
      ],
      "text/plain": [
       "        cname  season    planting     harvest   lai    gwad\n",
       "0     Baringo  2021 2  2021-10-01  2022-01-16  0.69  4337.0\n",
       "1     Baringo  2021 2  2021-10-26  2022-02-09  0.67  4286.0\n",
       "2     Baringo  2021 2  2021-10-09  2022-01-22  0.65  4246.0\n",
       "3     Baringo  2021 2  2021-10-15  2022-01-29  0.63  4328.0\n",
       "4     Baringo  2021 2  2021-10-24  2022-02-07  0.67  4389.0\n",
       "...       ...     ...         ...         ...   ...     ...\n",
       "7515  Mandera  2023 1  2023-03-28  2023-07-28  1.34  3108.0\n",
       "7516  Mandera  2023 1  2023-03-14  2023-07-11  1.45  3128.0\n",
       "7517  Mandera  2023 1  2023-03-30  2023-07-29  1.40  3106.0\n",
       "7518  Mandera  2023 1  2023-03-10  2023-07-04  1.41  3128.0\n",
       "7519  Mandera  2023 1  2023-03-21  2023-07-18  1.37  3107.0\n",
       "\n",
       "[7520 rows x 6 columns]"
      ]
     },
     "execution_count": 364,
     "metadata": {},
     "output_type": "execute_result"
    }
   ],
   "source": [
    "# Reading the data\n",
    "rheas_raw=pd.read_csv('data/tamsat/ken_n_25_tamsat__newmask_2022_2023_maize.csv')\n",
    "rheas_raw"
   ]
  },
  {
   "cell_type": "code",
   "execution_count": 365,
   "metadata": {},
   "outputs": [],
   "source": [
    "# remove non-agricultural counties\n",
    "rheas_raw=rheas_raw.loc[(rheas_raw['cname']!='Marsabit')&\n",
    "                                      (rheas_raw['cname']!='Mandera')&\n",
    "                                      (rheas_raw['cname']!='Wajir')&\n",
    "                                      (rheas_raw['cname']!='Lamu')&\n",
    "                                      (rheas_raw['cname']!='Nairobi')&\n",
    "                                      (rheas_raw['cname']!='Mombasa')&\n",
    "                                      (rheas_raw['cname']!='Turkana')&\n",
    "                                      (rheas_raw['cname']!='Mombasa')&\n",
    "                                      (rheas_raw['cname']!='Garissa')]\n",
    "                                    #   (rheas_tamsat_raw['cname']!='Isiolo')"
   ]
  },
  {
   "cell_type": "code",
   "execution_count": 366,
   "metadata": {},
   "outputs": [
    {
     "name": "stderr",
     "output_type": "stream",
     "text": [
      "C:\\Users\\kasit\\AppData\\Local\\Temp\\ipykernel_3392\\3854161517.py:3: SettingWithCopyWarning: \n",
      "A value is trying to be set on a copy of a slice from a DataFrame.\n",
      "Try using .loc[row_indexer,col_indexer] = value instead\n",
      "\n",
      "See the caveats in the documentation: https://pandas.pydata.org/pandas-docs/stable/user_guide/indexing.html#returning-a-view-versus-a-copy\n",
      "  rheas_raw['planting']=pd.to_datetime(rheas_raw['planting'], format='ISO8601')\n",
      "C:\\Users\\kasit\\AppData\\Local\\Temp\\ipykernel_3392\\3854161517.py:4: SettingWithCopyWarning: \n",
      "A value is trying to be set on a copy of a slice from a DataFrame.\n",
      "Try using .loc[row_indexer,col_indexer] = value instead\n",
      "\n",
      "See the caveats in the documentation: https://pandas.pydata.org/pandas-docs/stable/user_guide/indexing.html#returning-a-view-versus-a-copy\n",
      "  rheas_raw['harvest']=pd.to_datetime(rheas_raw['harvest'], format='ISO8601')\n",
      "C:\\Users\\kasit\\AppData\\Local\\Temp\\ipykernel_3392\\3854161517.py:5: SettingWithCopyWarning: \n",
      "A value is trying to be set on a copy of a slice from a DataFrame.\n",
      "Try using .loc[row_indexer,col_indexer] = value instead\n",
      "\n",
      "See the caveats in the documentation: https://pandas.pydata.org/pandas-docs/stable/user_guide/indexing.html#returning-a-view-versus-a-copy\n",
      "  rheas_raw['harvest']=pd.to_datetime(rheas_raw['harvest'], format='ISO8601')\n",
      "C:\\Users\\kasit\\AppData\\Local\\Temp\\ipykernel_3392\\3854161517.py:6: SettingWithCopyWarning: \n",
      "A value is trying to be set on a copy of a slice from a DataFrame.\n",
      "Try using .loc[row_indexer,col_indexer] = value instead\n",
      "\n",
      "See the caveats in the documentation: https://pandas.pydata.org/pandas-docs/stable/user_guide/indexing.html#returning-a-view-versus-a-copy\n",
      "  rheas_raw['year'] = rheas_raw['planting'].dt.year\n",
      "C:\\Users\\kasit\\AppData\\Local\\Temp\\ipykernel_3392\\3854161517.py:7: SettingWithCopyWarning: \n",
      "A value is trying to be set on a copy of a slice from a DataFrame.\n",
      "Try using .loc[row_indexer,col_indexer] = value instead\n",
      "\n",
      "See the caveats in the documentation: https://pandas.pydata.org/pandas-docs/stable/user_guide/indexing.html#returning-a-view-versus-a-copy\n",
      "  rheas_raw['yield']=rheas_raw['gwad']/1000\n"
     ]
    }
   ],
   "source": [
    "# tamsat change dates to months or years and calculate yield\n",
    "# rheas change dates to months or years and calculate yield\n",
    "rheas_raw['planting']=pd.to_datetime(rheas_raw['planting'], format='ISO8601')\n",
    "rheas_raw['harvest']=pd.to_datetime(rheas_raw['harvest'], format='ISO8601')\n",
    "rheas_raw['harvest']=pd.to_datetime(rheas_raw['harvest'], format='ISO8601')\n",
    "rheas_raw['year'] = rheas_raw['planting'].dt.year\n",
    "rheas_raw['yield']=rheas_raw['gwad']/1000"
   ]
  },
  {
   "cell_type": "code",
   "execution_count": 367,
   "metadata": {},
   "outputs": [
    {
     "name": "stderr",
     "output_type": "stream",
     "text": [
      "C:\\Users\\kasit\\AppData\\Local\\Temp\\ipykernel_3392\\888236314.py:6: SettingWithCopyWarning: \n",
      "A value is trying to be set on a copy of a slice from a DataFrame.\n",
      "Try using .loc[row_indexer,col_indexer] = value instead\n",
      "\n",
      "See the caveats in the documentation: https://pandas.pydata.org/pandas-docs/stable/user_guide/indexing.html#returning-a-view-versus-a-copy\n",
      "  rheas_raw['season']= rheas_raw['planting'].dt.month.map(month_to_season)\n"
     ]
    },
    {
     "data": {
      "text/html": [
       "<div>\n",
       "<style scoped>\n",
       "    .dataframe tbody tr th:only-of-type {\n",
       "        vertical-align: middle;\n",
       "    }\n",
       "\n",
       "    .dataframe tbody tr th {\n",
       "        vertical-align: top;\n",
       "    }\n",
       "\n",
       "    .dataframe thead th {\n",
       "        text-align: right;\n",
       "    }\n",
       "</style>\n",
       "<table border=\"1\" class=\"dataframe\">\n",
       "  <thead>\n",
       "    <tr style=\"text-align: right;\">\n",
       "      <th></th>\n",
       "      <th>cname</th>\n",
       "      <th>season</th>\n",
       "      <th>planting</th>\n",
       "      <th>harvest</th>\n",
       "      <th>lai</th>\n",
       "      <th>gwad</th>\n",
       "      <th>year</th>\n",
       "      <th>yield</th>\n",
       "    </tr>\n",
       "  </thead>\n",
       "  <tbody>\n",
       "  </tbody>\n",
       "</table>\n",
       "</div>"
      ],
      "text/plain": [
       "Empty DataFrame\n",
       "Columns: [cname, season, planting, harvest, lai, gwad, year, yield]\n",
       "Index: []"
      ]
     },
     "execution_count": 367,
     "metadata": {},
     "output_type": "execute_result"
    }
   ],
   "source": [
    "# MAM and OND season OND =[10,11,12] MAM = [3,4,5]\n",
    "# OND season\n",
    "\n",
    "seasons = ['NONE', 'NONE', 'MAM', 'MAM','MAM', 'NONE', 'NONE', 'NONE', 'NONE', 'OND', 'OND', 'OND']\n",
    "month_to_season=dict(zip(range(1,13), seasons))\n",
    "rheas_raw['season']= rheas_raw['planting'].dt.month.map(month_to_season)\n",
    "rheas_raw[rheas_raw['season']=='NONE']"
   ]
  },
  {
   "cell_type": "code",
   "execution_count": 368,
   "metadata": {},
   "outputs": [],
   "source": [
    "# # Extract and aggregate only for MAM and OND\n",
    "# extract data for 2023 only\n",
    "rheas_2023=rheas_raw[rheas_raw['year']==2023]\n",
    "rheas_2022=rheas_raw[rheas_raw['year']==2022]\n",
    "# rheas_2022[rheas_2022['cname']==]"
   ]
  },
  {
   "cell_type": "code",
   "execution_count": 369,
   "metadata": {},
   "outputs": [],
   "source": [
    "# extract for MAM and OND\n",
    "rheas_MAM_2022= rheas_2022.loc[rheas_2022['season']=='MAM']\n",
    "rheas_MAM_2023= rheas_2023.loc[rheas_2023['season']=='MAM']\n",
    "rheas_OND_2022= rheas_2022.loc[rheas_2022['season']=='OND']"
   ]
  },
  {
   "cell_type": "code",
   "execution_count": 370,
   "metadata": {},
   "outputs": [
    {
     "data": {
      "text/plain": [
       "2.021"
      ]
     },
     "execution_count": 370,
     "metadata": {},
     "output_type": "execute_result"
    }
   ],
   "source": [
    "# aggregate \n",
    "# rheas\n",
    "rheas_MAM_2022=rheas_MAM_2022.groupby(['cname'], as_index=False).agg({'yield': 'mean'})\n",
    "rheas_MAM_2023=rheas_MAM_2023.groupby(['cname'], as_index=False).agg({'yield': 'mean'})\n",
    "rheas_OND_2022=rheas_OND_2022.groupby(['cname'], as_index=False).agg({'yield': 'mean'})\n",
    "rheas_MAM_2023['yield'].min()"
   ]
  },
  {
   "cell_type": "code",
   "execution_count": 371,
   "metadata": {},
   "outputs": [],
   "source": [
    "# Read shapefiles and rename columns\n",
    "country_shp = gpd.read_file(\"data/shp/gadm41_KEN_0.shp\")\n",
    "county_shp = gpd.read_file(\"data/shp/gadm41_KEN_1.shp\")\n",
    "maize_counties=gpd.read_file('data/shp/Kenya_maize_counties_dd.shp')\n",
    "\n",
    "\n",
    "# Rename kenya_shp \n",
    "county_shp=county_shp.rename(columns={'NAME1':'cname'})"
   ]
  },
  {
   "cell_type": "code",
   "execution_count": 372,
   "metadata": {},
   "outputs": [],
   "source": [
    "# merge with shapefile\n",
    "# rheas\n",
    "rheas_mam_2022 = pd.merge(county_shp, rheas_MAM_2022, on=\"cname\")\n",
    "rheas_mam_2023= pd.merge(county_shp, rheas_MAM_2023, on=\"cname\")\n",
    "rheas_ond_2022= pd.merge(county_shp, rheas_OND_2022, on=\"cname\")\n",
    "# tamsat_mam_2022.columns"
   ]
  },
  {
   "cell_type": "code",
   "execution_count": 373,
   "metadata": {},
   "outputs": [],
   "source": [
    "# create list of min and max values\n",
    "list1=[rheas_mam_2022['yield'].min(),rheas_mam_2022['yield'].max(),\n",
    "       rheas_mam_2023['yield'].min(),rheas_mam_2023['yield'].max(),rheas_ond_2022['yield'].min(),rheas_ond_2022['yield'].max()]\n",
    "value=(list1)\n",
    "\n"
   ]
  },
  {
   "cell_type": "code",
   "execution_count": 374,
   "metadata": {},
   "outputs": [],
   "source": [
    "# convert to GeoJSONDataSource\n",
    "# rheas\n",
    "country_geo_source = GeoJSONDataSource(geojson=country_shp.to_json())\n",
    "geo_source_rheas_mam_2022 = GeoJSONDataSource(geojson=rheas_mam_2022.to_json())\n",
    "geo_source_rheas_mam_2023= GeoJSONDataSource(geojson=rheas_mam_2023.to_json())\n",
    "geo_source_rheas_ond_2022= GeoJSONDataSource(geojson=rheas_ond_2022.to_json())"
   ]
  },
  {
   "cell_type": "code",
   "execution_count": 375,
   "metadata": {},
   "outputs": [],
   "source": [
    "# MAM 2022\n",
    "color_mapper = LinearColorMapper(palette='RdBu8', low=min(value).round(1), high=max(value).round(1))\n",
    "p2 = figure(title='rheas MAM Yield (mt/ha) - 2022',\n",
    "           outer_width=650, outer_height=600)\n",
    "\n",
    "p2.multi_line('xs','ys', source=country_geo_source,\n",
    "            line_color='black', line_width=0.5)\n",
    "\n",
    "p2.patches('xs','ys', source=geo_source_rheas_mam_2022,\n",
    "          fill_color={'field': 'yield', 'transform': color_mapper},\n",
    "          fill_alpha=0.7, line_color='black', line_width=0.5)\n",
    "\n",
    "hover = HoverTool(tooltips=[('County: ', '@cname'), ('Yield', '@yield')])\n",
    "p2.add_tools(hover)\n",
    "\n",
    "color_bar = ColorBar(color_mapper=color_mapper, label_standoff=8, width=20, height=300,\n",
    "                     border_line_color=None, location=(0,0), orientation='vertical')\n",
    "p2.add_layout(color_bar, 'right')"
   ]
  },
  {
   "cell_type": "code",
   "execution_count": 376,
   "metadata": {},
   "outputs": [],
   "source": [
    "# MAM 2023\n",
    "color_mapper = LinearColorMapper(palette=\"RdBu8\", low=min(value).round(1), high=max(value).round(1))\n",
    "p4 = figure(title='rheas MAM Yield (mt/ha) - 2023',\n",
    "           outer_width=650, outer_height=600)\n",
    "\n",
    "p4.multi_line('xs','ys', source=country_geo_source,\n",
    "            line_color='black', line_width=0.5)\n",
    "\n",
    "p4.patches('xs','ys', source=geo_source_rheas_mam_2023,\n",
    "          fill_color={'field': 'yield', 'transform': color_mapper},\n",
    "          fill_alpha=0.7, line_color='black', line_width=0.5)\n",
    "\n",
    "hover = HoverTool(tooltips=[('county: ', '@cname'), ('Yield', '@yield')])\n",
    "p4.add_tools(hover)\n",
    "\n",
    "color_bar = ColorBar(color_mapper=color_mapper, label_standoff=8, width=20, height=300,\n",
    "                     border_line_color=None, location=(0,0), orientation='vertical')\n",
    "p4.add_layout(color_bar, 'right')"
   ]
  },
  {
   "cell_type": "code",
   "execution_count": 377,
   "metadata": {},
   "outputs": [],
   "source": [
    "# Short Rains Season 2022\n",
    "color_mapper1 = LinearColorMapper(palette='RdBu8', low=min(value).round(1), high=max(value).round(1))\n",
    "p6 = figure(title='rheas OND Yield(kg/ha) - 2022',\n",
    "           outer_width=650, outer_height=600)\n",
    "\n",
    "p6.multi_line('xs','ys', source=country_geo_source,\n",
    "            line_color='black', line_width=0.5)\n",
    "\n",
    "p6.patches('xs','ys', source=geo_source_rheas_ond_2022,\n",
    "          fill_color={'field': 'yield', 'transform': color_mapper1},\n",
    "          fill_alpha=0.7, line_color='black', line_width=0.5)\n",
    "\n",
    "hover = HoverTool(tooltips=[('County', '@cname'), ('Yield', '@yield')])\n",
    "p6.add_tools(hover)\n",
    "\n",
    "color_bar = ColorBar(color_mapper=color_mapper1, label_standoff=8, width=20, height=300,\n",
    "                     border_line_color=None, location=(0,0), orientation='vertical')\n",
    "p6.add_layout(color_bar, 'right')"
   ]
  },
  {
   "cell_type": "code",
   "execution_count": 378,
   "metadata": {},
   "outputs": [],
   "source": [
    "# # ploting the MAM for 2022 and 2023\n",
    "# rheas_tamsat_MAM_2022= rheas_tamsat_2022.loc[rheas_tamsat_2022['season']=='MAM']\n",
    "# rheas_tamsat_MAM_2023= rheas_tamsat_2023.loc[rheas_tamsat_2023['season']=='MAM']\n",
    "# rheas_tamsat_MAM_2022=rheas_tamsat_MAM_2022.groupby(['year', 'cname'], as_index=False).agg({'yield': 'mean'})\n",
    "# rheas_tamsat_MAM_2023=rheas_tamsat_MAM_2023.groupby(['year', 'cname'], as_index=False).agg({'yield': 'mean'})\n",
    "\n",
    "# # starting plotting\n",
    "# import matplotlib.pyplot as plt\n",
    "\n",
    "# X=list(rheas_tamsat_MAM_2022['cname'])\n",
    "# year_2023=list(rheas_tamsat_MAM_2023['yield'])\n",
    "# year_2022=list(rheas_tamsat_MAM_2022['yield'])\n",
    "# X_axis = np.arange(len(X))\n",
    "# plt.bar(X_axis - 0.2, year_2023, 0.4, label = 'yield_2023')\n",
    "# # plt.bar(X_axis + 0.2, year_2022, 0.4, label = 'yield_2022')\n",
    "# plt.xticks(X_axis)\n",
    "# plt.xlabel(\"Groups\")\n",
    "# plt.ylabel(\"Number of Students\")\n",
    "# plt.title(\"Number of Students in each group\")\n",
    "# plt.legend()\n",
    "# plt.show()"
   ]
  },
  {
   "cell_type": "code",
   "execution_count": 379,
   "metadata": {},
   "outputs": [],
   "source": [
    "\n",
    "p=gridplot([p2, p4, p6], ncols=2, width=650, height=600)#Tamsat only\n",
    "# p=gridplot([p2, p4, p6],ncols=3, width=650, height=600)#rheas only\n",
    "# p=gridplot([p1, p2, p3, p4, p5, p6],ncols=3, width=650, height=600)#rheas and tamsat\n",
    "\n",
    "\n",
    "show(p)"
   ]
  },
  {
   "cell_type": "code",
   "execution_count": 380,
   "metadata": {},
   "outputs": [
    {
     "name": "stderr",
     "output_type": "stream",
     "text": [
      "C:\\Users\\kasit\\AppData\\Local\\Temp\\ipykernel_3392\\2676417183.py:3: UserWarning: save() called but no resources were supplied and output_file(...) was never called, defaulting to resources.CDN\n",
      "  save(p, filename='../kenya.html', title='Maize Yield Maps')\n"
     ]
    },
    {
     "data": {
      "text/plain": [
       "'d:\\\\RONO\\\\rheas\\\\maize_crop_modeling\\\\crop-modeling\\\\kenya.html'"
      ]
     },
     "execution_count": 380,
     "metadata": {},
     "output_type": "execute_result"
    }
   ],
   "source": [
    "from bokeh.io import save\n",
    "# # specify the output file name and location\n",
    "save(p, filename='../kenya.html', title='Maize Yield Maps')"
   ]
  }
 ],
 "metadata": {
  "kernelspec": {
   "display_name": "Python 3",
   "language": "python",
   "name": "python3"
  },
  "language_info": {
   "codemirror_mode": {
    "name": "ipython",
    "version": 3
   },
   "file_extension": ".py",
   "mimetype": "text/x-python",
   "name": "python",
   "nbconvert_exporter": "python",
   "pygments_lexer": "ipython3",
   "version": "3.11.0"
  },
  "orig_nbformat": 4,
  "vscode": {
   "interpreter": {
    "hash": "f745412fe046abefa732567d83acd42b32594d10d0c166ca5878f9c42d7fed86"
   }
  }
 },
 "nbformat": 4,
 "nbformat_minor": 2
}
