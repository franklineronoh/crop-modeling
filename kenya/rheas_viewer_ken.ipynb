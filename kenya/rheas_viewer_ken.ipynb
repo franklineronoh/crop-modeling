{
 "cells": [
  {
   "cell_type": "code",
   "execution_count": 12,
   "metadata": {},
   "outputs": [],
   "source": [
    "# importing modules\n",
    "import pandas as pd\n",
    "import numpy as np\n",
    "import pandas as pd\n",
    "import geopandas as gpd\n",
    "from bokeh.layouts import gridplot\n",
    "from bokeh.plotting import figure, show\n",
    "from bokeh.models import GeoJSONDataSource, ColumnDataSource, HoverTool\n",
    "from bokeh.palettes import Viridis256, Inferno256, Magma256\n",
    "from bokeh.palettes import BrBG, PiYG, RdGy, RdYlGn, YlGnBu\n",
    "from bokeh.models import LinearColorMapper, ColorBar\n",
    "#import streamlit as st\n",
    "# #from streamlit_folium import st_folium\n",
    "#import folium\n",
    "#from leaflet import Map, GeoJSON"
   ]
  },
  {
   "cell_type": "code",
   "execution_count": 13,
   "metadata": {},
   "outputs": [],
   "source": [
    "# Reading the data\n",
    "rheas_chirps_raw=pd.read_csv('data/chirps/ken_n_25_chirps__newmask_2022_2023_maize.csv')\n",
    "rheas_tamsat_raw=pd.read_csv('data/tamsat/ken_n_25_tamsat__newmask_2022_2023_maize.csv')"
   ]
  },
  {
   "cell_type": "code",
   "execution_count": 14,
   "metadata": {},
   "outputs": [],
   "source": [
    "# remove non-agricultural counties\n",
    "rheas_tamsat_raw=rheas_tamsat_raw.loc[(rheas_tamsat_raw['cname']!='Marsabit')&\n",
    "                                      (rheas_tamsat_raw['cname']!='Mandera')&\n",
    "                                      (rheas_tamsat_raw['cname']!='Wajir')&\n",
    "                                      (rheas_tamsat_raw['cname']!='Lamu')&\n",
    "                                      (rheas_tamsat_raw['cname']!='Nairobi')&\n",
    "                                      (rheas_tamsat_raw['cname']!='Mombasa')&\n",
    "                                      (rheas_tamsat_raw['cname']!='Turkana')&\n",
    "                                      (rheas_tamsat_raw['cname']!='Mombasa')&\n",
    "                                      (rheas_tamsat_raw['cname']!='Garissa')]\n",
    "                                    #  (rheas_tamsat_raw['cname']!='Isiolo')\n",
    "rheas_chirps_raw=rheas_chirps_raw.loc[(rheas_chirps_raw['cname']!='Marsabit')&\n",
    "                                      (rheas_chirps_raw['cname']!='Mandera')&\n",
    "                                      (rheas_chirps_raw['cname']!='Wajir')&\n",
    "                                      (rheas_chirps_raw['cname']!='Lamu')&\n",
    "                                      (rheas_chirps_raw['cname']!='Nairobi')&\n",
    "                                      (rheas_chirps_raw['cname']!='Mombasa')&\n",
    "                                      (rheas_chirps_raw['cname']!='Turkana')&\n",
    "                                      (rheas_chirps_raw['cname']!='Mombasa')&\n",
    "                                      (rheas_chirps_raw['cname']!='Garissa')]\n",
    "                                    #   (rheas_tamsat_raw['cname']!='Isiolo')"
   ]
  },
  {
   "cell_type": "code",
   "execution_count": 15,
   "metadata": {},
   "outputs": [],
   "source": [
    "# tamsat change dates to months or years and calculate yield\n",
    "rheas_tamsat_raw['planting']=pd.to_datetime(rheas_tamsat_raw['planting'], format='ISO8601')\n",
    "rheas_tamsat_raw['harvest']=pd.to_datetime(rheas_tamsat_raw['harvest'], format='ISO8601')\n",
    "rheas_tamsat_raw['harvest']=pd.to_datetime(rheas_tamsat_raw['harvest'], format='ISO8601')\n",
    "rheas_tamsat_raw['year'] = rheas_tamsat_raw['planting'].dt.year\n",
    "rheas_tamsat_raw['yield']=rheas_tamsat_raw['gwad']/1000\n",
    "# rheas_tamsat_raw['harvest']=pd.to_datetime(rheas_tamsat_raw['harvest'], format='%Y/%m/%d')\n",
    "\n",
    "# chirps change dates to months or years and calculate yield\n",
    "rheas_chirps_raw['planting']=pd.to_datetime(rheas_chirps_raw['planting'], format='ISO8601')\n",
    "rheas_chirps_raw['harvest']=pd.to_datetime(rheas_chirps_raw['harvest'], format='ISO8601')\n",
    "rheas_chirps_raw['harvest']=pd.to_datetime(rheas_chirps_raw['harvest'], format='ISO8601')\n",
    "rheas_chirps_raw['year'] = rheas_chirps_raw['planting'].dt.year\n",
    "rheas_chirps_raw['yield']=rheas_chirps_raw['gwad']/1000"
   ]
  },
  {
   "cell_type": "code",
   "execution_count": 16,
   "metadata": {},
   "outputs": [
    {
     "data": {
      "text/html": [
       "<div>\n",
       "<style scoped>\n",
       "    .dataframe tbody tr th:only-of-type {\n",
       "        vertical-align: middle;\n",
       "    }\n",
       "\n",
       "    .dataframe tbody tr th {\n",
       "        vertical-align: top;\n",
       "    }\n",
       "\n",
       "    .dataframe thead th {\n",
       "        text-align: right;\n",
       "    }\n",
       "</style>\n",
       "<table border=\"1\" class=\"dataframe\">\n",
       "  <thead>\n",
       "    <tr style=\"text-align: right;\">\n",
       "      <th></th>\n",
       "      <th>id</th>\n",
       "      <th>gid</th>\n",
       "      <th>cname</th>\n",
       "      <th>season</th>\n",
       "      <th>ccode</th>\n",
       "      <th>ensemble</th>\n",
       "      <th>planting</th>\n",
       "      <th>harvest</th>\n",
       "      <th>wsgd</th>\n",
       "      <th>gwad</th>\n",
       "      <th>year</th>\n",
       "      <th>yield</th>\n",
       "    </tr>\n",
       "  </thead>\n",
       "  <tbody>\n",
       "  </tbody>\n",
       "</table>\n",
       "</div>"
      ],
      "text/plain": [
       "Empty DataFrame\n",
       "Columns: [id, gid, cname, season, ccode, ensemble, planting, harvest, wsgd, gwad, year, yield]\n",
       "Index: []"
      ]
     },
     "execution_count": 16,
     "metadata": {},
     "output_type": "execute_result"
    }
   ],
   "source": [
    "# MAM and OND season OND =[10,11,12] MAM = [3,4,5]\n",
    "# OND season\n",
    "\n",
    "seasons = ['NONE', 'NONE', 'MAM', 'MAM','MAM', 'NONE', 'NONE', 'NONE', 'NONE', 'OND', 'OND', 'OND']\n",
    "month_to_season=dict(zip(range(1,13), seasons))\n",
    "rheas_tamsat_raw['season']= rheas_tamsat_raw['planting'].dt.month.map(month_to_season)\n",
    "rheas_chirps_raw['season']= rheas_chirps_raw['planting'].dt.month.map(month_to_season)\n",
    "rheas_chirps_raw[rheas_chirps_raw['season']=='NONE']"
   ]
  },
  {
   "cell_type": "code",
   "execution_count": 42,
   "metadata": {},
   "outputs": [],
   "source": [
    "# # Extract and aggregate only for MAM and OND\n",
    "# extract data for 2023 only\n",
    "rheas_tamsat_2023=rheas_tamsat_raw.loc[rheas_tamsat_raw['year']==2023]\n",
    "rheas_tamsat_2022=rheas_tamsat_raw[rheas_tamsat_raw['year']==2022]\n",
    "rheas_chirps_2023=rheas_chirps_raw[rheas_chirps_raw['year']==2023]\n",
    "rheas_chirps_2022=rheas_chirps_raw[rheas_chirps_raw['year']==2022]\n",
    "\n",
    "# extract for MAM and OND\n",
    "# tamsat\n",
    "rheas_tamsat_MAM_2022= rheas_tamsat_2022.loc[rheas_tamsat_2022['season']=='MAM']\n",
    "rheas_tamsat_MAM_2023= rheas_tamsat_2023.loc[rheas_tamsat_2023['season']=='MAM']\n",
    "rheas_tamsat_OND_2022= rheas_tamsat_2022.loc[rheas_tamsat_2022['season']=='OND']\n",
    "\n",
    "# chirps\n",
    "rheas_chirps_MAM_2022= rheas_chirps_2022.loc[rheas_chirps_2022['season']=='MAM']\n",
    "rheas_chirps_MAM_2023= rheas_chirps_2023.loc[rheas_chirps_2023['season']=='MAM']\n",
    "rheas_chirps_OND_2022= rheas_chirps_2022.loc[rheas_chirps_2022['season']=='OND']\n",
    "\n",
    "\n",
    "\n",
    "# aggregate \n",
    "# tamsat\n",
    "rheas_tamsat_MAM_2022=rheas_tamsat_MAM_2022.groupby(['cname'], as_index=False).agg({'yield': 'mean'})\n",
    "rheas_tamsat_MAM_2023=rheas_tamsat_MAM_2023.groupby(['cname'], as_index=False).agg({'yield': 'mean'})\n",
    "rheas_tamsat_OND_2022=rheas_tamsat_OND_2022.groupby(['cname'], as_index=False).agg({'yield': 'mean'})\n",
    "\n",
    "# chirps\n",
    "rheas_chirps_MAM_2022=rheas_chirps_MAM_2022.groupby(['cname'], as_index=False).agg({'yield': 'mean'})\n",
    "rheas_chirps_MAM_2023=rheas_chirps_MAM_2023.groupby(['cname'], as_index=False).agg({'yield': 'mean'})\n",
    "rheas_chirps_OND_2022=rheas_chirps_OND_2022.groupby(['cname'], as_index=False).agg({'yield': 'mean'})"
   ]
  },
  {
   "cell_type": "code",
   "execution_count": 43,
   "metadata": {},
   "outputs": [],
   "source": [
    "# Read shapefiles and rename columns\n",
    "country_shp = gpd.read_file(\"data/shp/gadm41_KEN_0.shp\")\n",
    "county_shp = gpd.read_file(\"data/shp/gadm41_KEN_1.shp\")\n",
    "\n",
    "\n",
    "# Rename kenya_shp \n",
    "county_shp=county_shp.rename(columns={'NAME1':'cname'})"
   ]
  },
  {
   "cell_type": "code",
   "execution_count": 44,
   "metadata": {},
   "outputs": [],
   "source": [
    "# merge with shapefile\n",
    "# tamsat\n",
    "tamsat_mam_2022 = pd.merge(county_shp, rheas_tamsat_MAM_2022, on=\"cname\")\n",
    "tamsat_mam_2023= pd.merge(county_shp, rheas_tamsat_MAM_2023, on=\"cname\")\n",
    "tamsat_ond_2022= pd.merge(county_shp, rheas_tamsat_OND_2022, on=\"cname\")\n",
    "\n",
    "\n",
    "# chirps\n",
    "chirps_mam_2022 = pd.merge(county_shp, rheas_chirps_MAM_2022, on=\"cname\")\n",
    "chirps_mam_2023= pd.merge(county_shp, rheas_chirps_MAM_2023, on=\"cname\")\n",
    "chirps_ond_2022= pd.merge(county_shp, rheas_chirps_OND_2022, on=\"cname\")\n",
    "# tamsat_mam_2022.columns"
   ]
  },
  {
   "cell_type": "code",
   "execution_count": 45,
   "metadata": {},
   "outputs": [],
   "source": [
    "# convert to GeoJSONDataSource\n",
    "# tamsat\n",
    "country_geo_source = GeoJSONDataSource(geojson=country_shp.to_json())\n",
    "geo_source_tamsat_mam_2022 = GeoJSONDataSource(geojson=tamsat_mam_2022.to_json())\n",
    "geo_source_tamsat_mam_2023= GeoJSONDataSource(geojson=tamsat_mam_2023.to_json())\n",
    "geo_source_tamsat_ond_2022= GeoJSONDataSource(geojson=tamsat_ond_2022.to_json())\n",
    "\n",
    "# chirps\n",
    "country_geo_source = GeoJSONDataSource(geojson=country_shp.to_json())\n",
    "geo_source_chirps_mam_2022 = GeoJSONDataSource(geojson=chirps_mam_2022.to_json())\n",
    "geo_source_chirps_mam_2023= GeoJSONDataSource(geojson=chirps_mam_2023.to_json())\n",
    "geo_source_chirps_ond_2022= GeoJSONDataSource(geojson=chirps_ond_2022.to_json())"
   ]
  },
  {
   "cell_type": "code",
   "execution_count": 46,
   "metadata": {},
   "outputs": [],
   "source": [
    "# MAM 2022\n",
    "color_mapper = LinearColorMapper(palette=\"RdBu10\", low=3.0, high=3.5)\n",
    "p1 = figure(title='MAM Maize Yield (mt/ha) - 2022',\n",
    "           outer_width=650, outer_height=600)#Tamsat\n",
    "\n",
    "p1.multi_line('xs','ys', source=country_geo_source,\n",
    "            line_color='black', line_width=0.5)\n",
    "\n",
    "p1.patches('xs','ys', source=geo_source_tamsat_mam_2022,\n",
    "          fill_color={'field': 'yield', 'transform': color_mapper},\n",
    "          fill_alpha=0.7, line_color='black', line_width=0.5)\n",
    "\n",
    "hover = HoverTool(tooltips=[('County: ', '@cname'), ('Yield', '@yield')])\n",
    "p1.add_tools(hover)\n",
    "\n",
    "color_bar = ColorBar(color_mapper=color_mapper, label_standoff=8, width=20, height=300,\n",
    "                     border_line_color=None, location=(0,0), orientation='vertical')\n",
    "p1.add_layout(color_bar, 'right')"
   ]
  },
  {
   "cell_type": "code",
   "execution_count": 47,
   "metadata": {},
   "outputs": [],
   "source": [
    "# MAM 2022\n",
    "color_mapper = LinearColorMapper(palette=\"RdBu10\", low=3.0, high=3.5)\n",
    "p2 = figure(title='Chirps MAM Yield (mt/ha) - 2022',\n",
    "           outer_width=650, outer_height=600)\n",
    "\n",
    "p2.multi_line('xs','ys', source=country_geo_source,\n",
    "            line_color='black', line_width=0.5)\n",
    "\n",
    "p2.patches('xs','ys', source=geo_source_chirps_mam_2022,\n",
    "          fill_color={'field': 'yield', 'transform': color_mapper},\n",
    "          fill_alpha=0.7, line_color='black', line_width=0.5)\n",
    "\n",
    "hover = HoverTool(tooltips=[('County: ', '@cname'), ('Yield', '@yield')])\n",
    "p2.add_tools(hover)\n",
    "\n",
    "color_bar = ColorBar(color_mapper=color_mapper, label_standoff=8, width=20, height=300,\n",
    "                     border_line_color=None, location=(0,0), orientation='vertical')\n",
    "p2.add_layout(color_bar, 'right')"
   ]
  },
  {
   "cell_type": "code",
   "execution_count": 48,
   "metadata": {},
   "outputs": [],
   "source": [
    "# MAM 2023\n",
    "color_mapper = LinearColorMapper(palette=\"RdBu10\", low=3.0, high=3.5)\n",
    "p3 = figure(title='MAM Maize Yield (mt/ha) - 2023',\n",
    "           outer_width=650, outer_height=600)#Tamsat\n",
    "\n",
    "p3.multi_line('xs','ys', source=country_geo_source,\n",
    "            line_color='black', line_width=0.5)\n",
    "\n",
    "p3.patches('xs','ys', source=geo_source_tamsat_mam_2023,\n",
    "          fill_color={'field': 'yield', 'transform': color_mapper},\n",
    "          fill_alpha=0.7, line_color='black', line_width=0.5)\n",
    "\n",
    "hover = HoverTool(tooltips=[('county: ', '@cname'), ('Yield', '@yield')])\n",
    "p3.add_tools(hover)\n",
    "\n",
    "color_bar = ColorBar(color_mapper=color_mapper, label_standoff=8, width=20, height=300,\n",
    "                     border_line_color=None, location=(0,0), orientation='vertical')\n",
    "p3.add_layout(color_bar, 'right')"
   ]
  },
  {
   "cell_type": "code",
   "execution_count": 49,
   "metadata": {},
   "outputs": [],
   "source": [
    "# MAM 2023\n",
    "color_mapper = LinearColorMapper(palette=\"RdBu10\", low=3.0, high=3.5)\n",
    "p4 = figure(title='Chirps MAM Yield (mt/ha) - 2023',\n",
    "           outer_width=650, outer_height=600)\n",
    "\n",
    "p4.multi_line('xs','ys', source=country_geo_source,\n",
    "            line_color='black', line_width=0.5)\n",
    "\n",
    "p4.patches('xs','ys', source=geo_source_chirps_mam_2023,\n",
    "          fill_color={'field': 'yield', 'transform': color_mapper},\n",
    "          fill_alpha=0.7, line_color='black', line_width=0.5)\n",
    "\n",
    "hover = HoverTool(tooltips=[('county: ', '@cname'), ('Yield', '@yield')])\n",
    "p4.add_tools(hover)\n",
    "\n",
    "color_bar = ColorBar(color_mapper=color_mapper, label_standoff=8, width=20, height=300,\n",
    "                     border_line_color=None, location=(0,0), orientation='vertical')\n",
    "p4.add_layout(color_bar, 'right')"
   ]
  },
  {
   "cell_type": "code",
   "execution_count": 50,
   "metadata": {},
   "outputs": [],
   "source": [
    "# Short Rains Season 2022\n",
    "color_mapper1 = LinearColorMapper(palette=\"RdBu10\", low=3.0, high=3.5)\n",
    "p5 = figure(title='OND Maize Yield(kg/ha) - 2022',\n",
    "           outer_width=650, outer_height=600)#Tamsat \n",
    "\n",
    "p5.multi_line('xs','ys', source=country_geo_source,\n",
    "            line_color='black', line_width=0.5)\n",
    "\n",
    "p5.patches('xs','ys', source=geo_source_tamsat_ond_2022,\n",
    "          fill_color={'field': 'yield', 'transform': color_mapper1},\n",
    "          fill_alpha=0.7, line_color='black', line_width=0.5)\n",
    "\n",
    "hover = HoverTool(tooltips=[('County', '@cname'), ('Yield', '@yield')])\n",
    "p5.add_tools(hover)\n",
    "\n",
    "color_bar = ColorBar(color_mapper=color_mapper1, label_standoff=8, width=20, height=300,\n",
    "                     border_line_color=None, location=(0,0), orientation='vertical')\n",
    "p5.add_layout(color_bar, 'right')"
   ]
  },
  {
   "cell_type": "code",
   "execution_count": 51,
   "metadata": {},
   "outputs": [],
   "source": [
    "# Short Rains Season 2022\n",
    "color_mapper1 = LinearColorMapper(palette=\"RdBu10\", low=3.0, high=3.5)\n",
    "p6 = figure(title='Chirps OND Yield(kg/ha) - 2022',\n",
    "           outer_width=650, outer_height=600)\n",
    "\n",
    "p6.multi_line('xs','ys', source=country_geo_source,\n",
    "            line_color='black', line_width=0.5)\n",
    "\n",
    "p6.patches('xs','ys', source=geo_source_chirps_ond_2022,\n",
    "          fill_color={'field': 'yield', 'transform': color_mapper1},\n",
    "          fill_alpha=0.7, line_color='black', line_width=0.5)\n",
    "\n",
    "hover = HoverTool(tooltips=[('County', '@cname'), ('Yield', '@yield')])\n",
    "p6.add_tools(hover)\n",
    "\n",
    "color_bar = ColorBar(color_mapper=color_mapper1, label_standoff=8, width=20, height=300,\n",
    "                     border_line_color=None, location=(0,0), orientation='vertical')\n",
    "p6.add_layout(color_bar, 'right')"
   ]
  },
  {
   "cell_type": "code",
   "execution_count": 52,
   "metadata": {},
   "outputs": [],
   "source": [
    "# # ploting the MAM for 2022 and 2023\n",
    "# rheas_tamsat_MAM_2022= rheas_tamsat_2022.loc[rheas_tamsat_2022['season']=='MAM']\n",
    "# rheas_tamsat_MAM_2023= rheas_tamsat_2023.loc[rheas_tamsat_2023['season']=='MAM']\n",
    "# rheas_tamsat_MAM_2022=rheas_tamsat_MAM_2022.groupby(['year', 'cname'], as_index=False).agg({'yield': 'mean'})\n",
    "# rheas_tamsat_MAM_2023=rheas_tamsat_MAM_2023.groupby(['year', 'cname'], as_index=False).agg({'yield': 'mean'})\n",
    "\n",
    "# # starting plotting\n",
    "# import matplotlib.pyplot as plt\n",
    "\n",
    "# X=list(rheas_tamsat_MAM_2022['cname'])\n",
    "# year_2023=list(rheas_tamsat_MAM_2023['yield'])\n",
    "# year_2022=list(rheas_tamsat_MAM_2022['yield'])\n",
    "# X_axis = np.arange(len(X))\n",
    "# plt.bar(X_axis - 0.2, year_2023, 0.4, label = 'yield_2023')\n",
    "# # plt.bar(X_axis + 0.2, year_2022, 0.4, label = 'yield_2022')\n",
    "# plt.xticks(X_axis)\n",
    "# plt.xlabel(\"Groups\")\n",
    "# plt.ylabel(\"Number of Students\")\n",
    "# plt.title(\"Number of Students in each group\")\n",
    "# plt.legend()\n",
    "# plt.show()"
   ]
  },
  {
   "cell_type": "code",
   "execution_count": 53,
   "metadata": {},
   "outputs": [],
   "source": [
    "\n",
    "p=gridplot([p1, p3, p5], ncols=2, width=650, height=600)#Tamsat only\n",
    "# p=gridplot([p2, p4, p6],ncols=3, width=650, height=600)#Chirps only\n",
    "# p=gridplot([p1, p2, p3, p4, p5, p6],ncols=3, width=650, height=600)#Chirps and tamsat\n",
    "\n",
    "\n",
    "show(p)"
   ]
  },
  {
   "cell_type": "code",
   "execution_count": 54,
   "metadata": {},
   "outputs": [
    {
     "name": "stderr",
     "output_type": "stream",
     "text": [
      "C:\\Users\\kasit\\AppData\\Local\\Temp\\ipykernel_1440\\2676417183.py:3: UserWarning: save() called but no resources were supplied and output_file(...) was never called, defaulting to resources.CDN\n",
      "  save(p, filename='../kenya.html', title='Maize Yield Maps')\n"
     ]
    },
    {
     "data": {
      "text/plain": [
       "'d:\\\\RONO\\\\rheas\\\\maize_crop_modeling\\\\kenya.html'"
      ]
     },
     "execution_count": 54,
     "metadata": {},
     "output_type": "execute_result"
    }
   ],
   "source": [
    "from bokeh.io import save\n",
    "# # specify the output file name and location\n",
    "save(p, filename='../kenya.html', title='Maize Yield Maps')"
   ]
  }
 ],
 "metadata": {
  "kernelspec": {
   "display_name": "Python 3",
   "language": "python",
   "name": "python3"
  },
  "language_info": {
   "codemirror_mode": {
    "name": "ipython",
    "version": 3
   },
   "file_extension": ".py",
   "mimetype": "text/x-python",
   "name": "python",
   "nbconvert_exporter": "python",
   "pygments_lexer": "ipython3",
   "version": "3.8.10"
  },
  "orig_nbformat": 4,
  "vscode": {
   "interpreter": {
    "hash": "f745412fe046abefa732567d83acd42b32594d10d0c166ca5878f9c42d7fed86"
   }
  }
 },
 "nbformat": 4,
 "nbformat_minor": 2
}
