{
 "cells": [
  {
   "cell_type": "code",
   "execution_count": 35,
   "metadata": {},
   "outputs": [],
   "source": [
    "# importing modules\n",
    "import pandas as pd\n",
    "import numpy as np\n",
    "import pandas as pd\n",
    "import geopandas as gpd\n",
    "from bokeh.layouts import gridplot\n",
    "from bokeh.plotting import figure, show\n",
    "from bokeh.models import GeoJSONDataSource, ColumnDataSource, HoverTool\n",
    "from bokeh.palettes import Viridis256, Inferno256, Magma256\n",
    "from bokeh.palettes import BrBG, PiYG, RdGy, RdYlGn, YlGnBu\n",
    "from bokeh.models import LinearColorMapper, ColorBar\n",
    "#import streamlit as st\n",
    "# #from streamlit_folium import st_folium\n",
    "#import folium\n",
    "#from leaflet import Map, GeoJSON"
   ]
  },
  {
   "cell_type": "code",
   "execution_count": 68,
   "metadata": {},
   "outputs": [],
   "source": [
    "# Reading the data\n",
    "rheas_tamsat=pd.read_csv('data/rheas/zmb_n_25_tamsat.csv')\n",
    "# rheas_tamsat=pd.read_csv('data/rheas/maize_zmb_n_25_tamsat_cul1_fertilizer50.csv')\n",
    "# rheas_chirps=pd.read_csv('data/rheas/maize_zmb_n_25_chirps_cul1_fertilizer50.csv')\n",
    "\n",
    "\n"
   ]
  },
  {
   "cell_type": "code",
   "execution_count": 69,
   "metadata": {},
   "outputs": [],
   "source": [
    "# change dates to months or years\n",
    "# chirps\n",
    "rheas_tamsat['planting']=pd.to_datetime(rheas_tamsat['planting'], format='ISO8601')\n",
    "rheas_tamsat['harvest']=pd.to_datetime(rheas_tamsat['harvest'], format='ISO8601')\n",
    "rheas_tamsat['harvest']=pd.to_datetime(rheas_tamsat['harvest'], format='ISO8601')\n",
    "rheas_tamsat['year'] = rheas_tamsat['planting'].dt.year\n",
    "rheas_tamsat['year'] = rheas_tamsat['planting'].dt.year\n",
    "rheas_tamsat['yield']=rheas_tamsat['gwad']/1000\n",
    "# rheas_tamsat_raw['harvest']=pd.to_datetime(rheas_tamsat_raw['harvest'], format='%Y/%m/%d')\n",
    "\n",
    "# chirps\n",
    "# rheas_chirps['planting']=pd.to_datetime(rheas_chirps['planting'], format='ISO8601')\n",
    "# rheas_chirps['harvest']=pd.to_datetime(rheas_chirps['harvest'], format='ISO8601')\n",
    "# rheas_chirps['harvest']=pd.to_datetime(rheas_chirps['harvest'], format='ISO8601')\n",
    "# rheas_chirps['year'] = rheas_chirps['planting'].dt.year\n",
    "# rheas_chirps['year'] = rheas_chirps['planting'].dt.year\n",
    "# rheas_chirps['yield']=rheas_chirps['gwad']/1000"
   ]
  },
  {
   "cell_type": "code",
   "execution_count": 70,
   "metadata": {},
   "outputs": [],
   "source": [
    "# mask off water bodies eg Lake Victoria\n",
    "# rheas_tamsat_bimodal=rheas_tamsat_bimodal.loc[rheas_tamsat_bimodal['cname']!='Lake Victoria']\n"
   ]
  },
  {
   "cell_type": "code",
   "execution_count": 71,
   "metadata": {},
   "outputs": [],
   "source": [
    "#season [10,11,12, 1,2,3,4,5,6]\n",
    "#  part1=[1,2, 3, 4,5,6], part1 = [10, 11, 12]\n",
    "# season part1=[10, 11, 12]\n",
    "rheas_tamsat_part1=rheas_tamsat\n",
    "part1 = ['none', 'none', 'none', 'none','none', 'none', 'none', \n",
    "                   'none', 'none', 'yes', 'yes', 'yes']\n",
    "month_to_part1=dict(zip(range(1,13), part1))\n",
    "rheas_tamsat_part1['season']= rheas_tamsat_part1['planting'].dt.month.map(month_to_part1)\n",
    "\n",
    "# part2=[1,2, 3, 4,5,6]\n",
    "rheas_tamsat_part2=rheas_tamsat\n",
    "part2 = ['yes', 'yes', 'yes', 'yes','yes', 'yes', 'none', \n",
    "                   'none', 'none', 'none', 'none', 'none']\n",
    "unimodal_month_to_part2=dict(zip(range(1,13), part2))\n",
    "rheas_tamsat_part2['season']= rheas_tamsat_part2['planting'].dt.month.map(unimodal_month_to_part2)"
   ]
  },
  {
   "cell_type": "code",
   "execution_count": 72,
   "metadata": {},
   "outputs": [],
   "source": [
    "# # Extract data only for the seasons\n",
    "# long rains (unimodal)\n",
    "rheas_tamsat_part1= rheas_tamsat_part1.loc[rheas_tamsat_part1['season']=='yes']\n",
    "rheas_tamsat_part2= rheas_tamsat_part2.loc[rheas_tamsat_part2['season']=='yes']\n"
   ]
  },
  {
   "cell_type": "code",
   "execution_count": 73,
   "metadata": {},
   "outputs": [],
   "source": [
    "\n",
    "# extract data for 2022 and 2023 only\n",
    "rheas_tamsat_2022_2=rheas_tamsat_part1.loc[rheas_tamsat_part1['year']==2022].reset_index()\n",
    "rheas_tamsat_2023_1=rheas_tamsat_part1.loc[rheas_tamsat_part1['year']==2023].reset_index()\n",
    "rheas_tamsat_2022=pd.concat([rheas_tamsat_2022_2,rheas_tamsat_2023_1],axis=0)\n"
   ]
  },
  {
   "cell_type": "code",
   "execution_count": 74,
   "metadata": {},
   "outputs": [],
   "source": [
    "# # aggregate \n",
    "rheas_tamsat_2022=rheas_tamsat_2022.groupby(['cname'], as_index=False).agg({'yield': 'mean'})"
   ]
  },
  {
   "cell_type": "code",
   "execution_count": 75,
   "metadata": {},
   "outputs": [],
   "source": [
    "# Read shapefiles and rename columns\n",
    "country_shapefile = gpd.read_file(\"data/shp/gadm36_ZMB_0.shp\")\n",
    "district_shp = gpd.read_file(\"data/shp/gadm36_ZMB_2.shp\")\n",
    "\n",
    "# Rename kenya_shp \n",
    "district_shp=district_shp.rename(columns={'NAME1':'cname'})"
   ]
  },
  {
   "cell_type": "code",
   "execution_count": 76,
   "metadata": {},
   "outputs": [],
   "source": [
    "# Merge data into shapefiles\n",
    "tamsat_2022 = pd.merge(district_shp, rheas_tamsat_2022, on=\"cname\")"
   ]
  },
  {
   "cell_type": "code",
   "execution_count": 77,
   "metadata": {},
   "outputs": [],
   "source": [
    "geo_source_tamsat_2022 = GeoJSONDataSource(geojson=tamsat_2022.to_json())\n",
    "country_geo_source = GeoJSONDataSource(geojson=country_shapefile.to_json())"
   ]
  },
  {
   "cell_type": "code",
   "execution_count": 78,
   "metadata": {},
   "outputs": [],
   "source": [
    "color_mapper = LinearColorMapper(palette=\"RdBu10\", low=3.0, high=3.5)\n",
    "p1 = figure(title='Unimodal_Long Rains Season Yield (mt/ha) - 2022',\n",
    "           outer_width=350, outer_height=300)\n",
    "\n",
    "p1.multi_line('xs','ys', source=country_geo_source,\n",
    "            line_color='black', line_width=0.5)\n",
    "\n",
    "p1.patches('xs','ys', source=geo_source_tamsat_2022,\n",
    "          fill_color={'field': 'yield', 'transform': color_mapper},\n",
    "          fill_alpha=0.7, line_color='black', line_width=0.5)\n",
    "\n",
    "hover = HoverTool(tooltips=[('District: ', '@cname'), ('Yield', '@yield')])\n",
    "p1.add_tools(hover)\n",
    "\n",
    "color_bar = ColorBar(color_mapper=color_mapper, label_standoff=8, width=20, height=300,\n",
    "                     border_line_color=None, location=(0,0), orientation='vertical')\n",
    "p1.add_layout(color_bar, 'right')"
   ]
  },
  {
   "cell_type": "code",
   "execution_count": 79,
   "metadata": {},
   "outputs": [],
   "source": [
    "# color_mapper = LinearColorMapper(palette=\"RdBu10\", low=3.0, high=3.5)\n",
    "# p2 = figure(title='Bimodal_MAM Season Yield (mt/ha) - 2022',\n",
    "#            outer_width=350, outer_height=300)\n",
    "\n",
    "# p2.multi_line('xs','ys', source=country_geo_source,\n",
    "#             line_color='black', line_width=0.5)\n",
    "\n",
    "# p2.patches('xs','ys', source=geo_source_mam_2022,\n",
    "#           fill_color={'field': 'yield', 'transform': color_mapper},\n",
    "#           fill_alpha=0.7, line_color='black', line_width=0.5)\n",
    "\n",
    "# hover = HoverTool(tooltips=[('District: ', '@cname'), ('Yield', '@yield')])\n",
    "# p2.add_tools(hover)\n",
    "\n",
    "# color_bar = ColorBar(color_mapper=color_mapper, label_standoff=8, width=20, height=300,\n",
    "#                      border_line_color=None, location=(0,0), orientation='vertical')\n",
    "# p2.add_layout(color_bar, 'right')"
   ]
  },
  {
   "cell_type": "code",
   "execution_count": 80,
   "metadata": {},
   "outputs": [],
   "source": [
    "# # Bimodal Season 2022\n",
    "# color_mapper1 = LinearColorMapper(palette=\"RdBu10\", low=3.0, high=3.5)\n",
    "# p3 = figure(title=' Bimodal_ MAM Season  Yield(mt/Ha) - 2023',\n",
    "#            outer_width=350, outer_height=300)\n",
    "\n",
    "# p3.multi_line('xs','ys', source=country_geo_source,\n",
    "#             line_color='black', line_width=0.5)\n",
    "\n",
    "# p3.patches('xs','ys', source=geo_source_mam_2023,\n",
    "#           fill_color={'field': 'yield', 'transform': color_mapper1},\n",
    "#           fill_alpha=0.7, line_color='black', line_width=0.5)\n",
    "\n",
    "# hover = HoverTool(tooltips=[('District', '@cname'), ('Yield', '@yield')])\n",
    "# p3.add_tools(hover)\n",
    "\n",
    "# color_bar = ColorBar(color_mapper=color_mapper1, label_standoff=8, width=20, height=300,\n",
    "#                      border_line_color=None, location=(0,0), orientation='vertical')\n",
    "# p3.add_layout(color_bar, 'right')"
   ]
  },
  {
   "cell_type": "code",
   "execution_count": 81,
   "metadata": {},
   "outputs": [],
   "source": [
    "# # Bimodal Season 2022\n",
    "# color_mapper1 = LinearColorMapper(palette=\"RdBu10\", low=3.0, high=3.5)\n",
    "# p4 = figure(title='Bimodal_OND Season  Yield(mt/ha) - 2022',\n",
    "#            outer_width=350, outer_height=300)\n",
    "\n",
    "# p4.multi_line('xs','ys', source=country_geo_source,\n",
    "#             line_color='black', line_width=0.5)\n",
    "\n",
    "# p4.patches('xs','ys', source=geo_source_ond_2022,\n",
    "#           fill_color={'field': 'yield', 'transform': color_mapper1},\n",
    "#           fill_alpha=0.7, line_color='black', line_width=0.5)\n",
    "\n",
    "# hover = HoverTool(tooltips=[('District', '@cname'), ('Yield', '@yield')])\n",
    "# p4.add_tools(hover)\n",
    "\n",
    "# color_bar = ColorBar(color_mapper=color_mapper1, label_standoff=8, width=20, height=300,\n",
    "#                      border_line_color=None, location=(0,0), orientation='vertical')\n",
    "# p4.add_layout(color_bar, 'right')"
   ]
  },
  {
   "cell_type": "code",
   "execution_count": 82,
   "metadata": {},
   "outputs": [],
   "source": [
    "\n",
    "# grid=gridplot([ p2, p3, p4, p1],ncols=2, width=650, height=600)\n",
    "# grid = gridplot([[p2, p3], [None, p4]], width=650, height=600)\n",
    "grid = gridplot([p1,], ncols=1, width=650, height=600)\n",
    "show(grid)"
   ]
  },
  {
   "cell_type": "code",
   "execution_count": 83,
   "metadata": {},
   "outputs": [
    {
     "name": "stderr",
     "output_type": "stream",
     "text": [
      "C:\\Users\\kasit\\AppData\\Local\\Temp\\ipykernel_9576\\1141731985.py:3: UserWarning: save() called but no resources were supplied and output_file(...) was never called, defaulting to resources.CDN\n",
      "  save(grid, filename='../zambia.html', title='Maize Yield Maps')\n"
     ]
    },
    {
     "data": {
      "text/plain": [
       "'d:\\\\RONO\\\\rheas\\\\maize_crop_modeling\\\\zambia.html'"
      ]
     },
     "execution_count": 83,
     "metadata": {},
     "output_type": "execute_result"
    }
   ],
   "source": [
    "from bokeh.io import save\n",
    "# # # specify the output file name and location\n",
    "save(grid, filename='../zambia.html', title='Maize Yield Maps')"
   ]
  }
 ],
 "metadata": {
  "kernelspec": {
   "display_name": "Python 3",
   "language": "python",
   "name": "python3"
  },
  "language_info": {
   "codemirror_mode": {
    "name": "ipython",
    "version": 3
   },
   "file_extension": ".py",
   "mimetype": "text/x-python",
   "name": "python",
   "nbconvert_exporter": "python",
   "pygments_lexer": "ipython3",
   "version": "3.11.0"
  },
  "orig_nbformat": 4,
  "vscode": {
   "interpreter": {
    "hash": "f745412fe046abefa732567d83acd42b32594d10d0c166ca5878f9c42d7fed86"
   }
  }
 },
 "nbformat": 4,
 "nbformat_minor": 2
}
