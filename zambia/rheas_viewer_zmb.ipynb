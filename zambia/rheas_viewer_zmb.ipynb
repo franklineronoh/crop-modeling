{
 "cells": [
  {
   "cell_type": "code",
   "execution_count": 8,
   "metadata": {},
   "outputs": [],
   "source": [
    "# importing modules\n",
    "import pandas as pd\n",
    "import numpy as np\n",
    "import pandas as pd\n",
    "import geopandas as gpd\n",
    "from bokeh.layouts import gridplot\n",
    "from bokeh.plotting import figure, show\n",
    "from bokeh.models import GeoJSONDataSource, ColumnDataSource, HoverTool\n",
    "from bokeh.palettes import Viridis256, Inferno256, Magma256\n",
    "from bokeh.palettes import BrBG, PiYG, RdGy, RdYlGn, YlGnBu\n",
    "from bokeh.models import LinearColorMapper, ColorBar"
   ]
  },
  {
   "cell_type": "code",
   "execution_count": 9,
   "metadata": {},
   "outputs": [],
   "source": [
    "# shapefile column renaming\n",
    "districts_shp=gpd.read_file('data/shp/zmb_district_cleaned.shp')\n",
    "province_shp=gpd.read_file('data/shp/zmb_district_cleaned.shp')"
   ]
  },
  {
   "cell_type": "code",
   "execution_count": 10,
   "metadata": {},
   "outputs": [],
   "source": [
    "# Reading the data\n",
    "# read files\n",
    "rheas_chirps= pd.read_csv('data/rheas/maize_zmb_n_25_chirps_cul1_fertilizer50.csv')"
   ]
  },
  {
   "cell_type": "code",
   "execution_count": 11,
   "metadata": {},
   "outputs": [],
   "source": [
    "# convert columns to lower and cname names\n",
    "rheas_chirps.columns=rheas_chirps.columns.str.lower()\n",
    "rheas_chirps['cname']=rheas_chirps['cname'].str.lower()\n",
    "rheas_chirps['cname']=rheas_chirps['cname'].str.strip()\n",
    "rheas_chirps['cname']=rheas_chirps['cname'].str.replace('-', '', regex=True)\n"
   ]
  },
  {
   "cell_type": "code",
   "execution_count": 12,
   "metadata": {},
   "outputs": [],
   "source": [
    "# convert dates and calculate yield\n",
    "rheas_chirps['planting']=pd.to_datetime(rheas_chirps['planting'], format='ISO8601')\n",
    "rheas_chirps['harvest']=pd.to_datetime(rheas_chirps['harvest'], format='ISO8601')\n",
    "rheas_chirps['harvest']=pd.to_datetime(rheas_chirps['harvest'], format='ISO8601')\n",
    "rheas_chirps['year'] = rheas_chirps['planting'].dt.year\n",
    "rheas_chirps['yield']=rheas_chirps['gwad']/1000"
   ]
  },
  {
   "cell_type": "code",
   "execution_count": 16,
   "metadata": {},
   "outputs": [
    {
     "data": {
      "text/html": [
       "<div>\n",
       "<style scoped>\n",
       "    .dataframe tbody tr th:only-of-type {\n",
       "        vertical-align: middle;\n",
       "    }\n",
       "\n",
       "    .dataframe tbody tr th {\n",
       "        vertical-align: top;\n",
       "    }\n",
       "\n",
       "    .dataframe thead th {\n",
       "        text-align: right;\n",
       "    }\n",
       "</style>\n",
       "<table border=\"1\" class=\"dataframe\">\n",
       "  <thead>\n",
       "    <tr style=\"text-align: right;\">\n",
       "      <th></th>\n",
       "      <th>cname</th>\n",
       "      <th>planting</th>\n",
       "      <th>harvest</th>\n",
       "      <th>lai</th>\n",
       "      <th>wsgd</th>\n",
       "      <th>gwad</th>\n",
       "      <th>year</th>\n",
       "      <th>yield</th>\n",
       "      <th>season</th>\n",
       "    </tr>\n",
       "  </thead>\n",
       "  <tbody>\n",
       "    <tr>\n",
       "      <th>0</th>\n",
       "      <td>kanchibiya</td>\n",
       "      <td>1998-01-01</td>\n",
       "      <td>1998-05-11</td>\n",
       "      <td>0.45</td>\n",
       "      <td>0.0</td>\n",
       "      <td>3751</td>\n",
       "      <td>1998</td>\n",
       "      <td>3.751</td>\n",
       "      <td>no</td>\n",
       "    </tr>\n",
       "    <tr>\n",
       "      <th>1</th>\n",
       "      <td>kaoma</td>\n",
       "      <td>1998-01-01</td>\n",
       "      <td>1998-05-11</td>\n",
       "      <td>0.45</td>\n",
       "      <td>0.0</td>\n",
       "      <td>3752</td>\n",
       "      <td>1998</td>\n",
       "      <td>3.752</td>\n",
       "      <td>no</td>\n",
       "    </tr>\n",
       "    <tr>\n",
       "      <th>2</th>\n",
       "      <td>kabompo</td>\n",
       "      <td>1998-01-01</td>\n",
       "      <td>1998-05-11</td>\n",
       "      <td>0.45</td>\n",
       "      <td>0.0</td>\n",
       "      <td>3753</td>\n",
       "      <td>1998</td>\n",
       "      <td>3.753</td>\n",
       "      <td>no</td>\n",
       "    </tr>\n",
       "    <tr>\n",
       "      <th>3</th>\n",
       "      <td>kapiri mposhi</td>\n",
       "      <td>1998-01-01</td>\n",
       "      <td>1998-05-11</td>\n",
       "      <td>0.45</td>\n",
       "      <td>0.0</td>\n",
       "      <td>3751</td>\n",
       "      <td>1998</td>\n",
       "      <td>3.751</td>\n",
       "      <td>no</td>\n",
       "    </tr>\n",
       "    <tr>\n",
       "      <th>4</th>\n",
       "      <td>chipili</td>\n",
       "      <td>1998-01-01</td>\n",
       "      <td>1998-05-11</td>\n",
       "      <td>0.45</td>\n",
       "      <td>0.0</td>\n",
       "      <td>3751</td>\n",
       "      <td>1998</td>\n",
       "      <td>3.751</td>\n",
       "      <td>no</td>\n",
       "    </tr>\n",
       "    <tr>\n",
       "      <th>...</th>\n",
       "      <td>...</td>\n",
       "      <td>...</td>\n",
       "      <td>...</td>\n",
       "      <td>...</td>\n",
       "      <td>...</td>\n",
       "      <td>...</td>\n",
       "      <td>...</td>\n",
       "      <td>...</td>\n",
       "      <td>...</td>\n",
       "    </tr>\n",
       "    <tr>\n",
       "      <th>163795</th>\n",
       "      <td>nakonde</td>\n",
       "      <td>2017-01-09</td>\n",
       "      <td>2017-05-24</td>\n",
       "      <td>0.42</td>\n",
       "      <td>0.0</td>\n",
       "      <td>4372</td>\n",
       "      <td>2017</td>\n",
       "      <td>4.372</td>\n",
       "      <td>no</td>\n",
       "    </tr>\n",
       "    <tr>\n",
       "      <th>163796</th>\n",
       "      <td>nakonde</td>\n",
       "      <td>2017-01-10</td>\n",
       "      <td>2017-05-26</td>\n",
       "      <td>0.43</td>\n",
       "      <td>0.0</td>\n",
       "      <td>4525</td>\n",
       "      <td>2017</td>\n",
       "      <td>4.525</td>\n",
       "      <td>no</td>\n",
       "    </tr>\n",
       "    <tr>\n",
       "      <th>163797</th>\n",
       "      <td>nakonde</td>\n",
       "      <td>2017-01-10</td>\n",
       "      <td>2017-05-26</td>\n",
       "      <td>0.43</td>\n",
       "      <td>0.0</td>\n",
       "      <td>4529</td>\n",
       "      <td>2017</td>\n",
       "      <td>4.529</td>\n",
       "      <td>no</td>\n",
       "    </tr>\n",
       "    <tr>\n",
       "      <th>163798</th>\n",
       "      <td>nakonde</td>\n",
       "      <td>2017-01-12</td>\n",
       "      <td>2017-05-27</td>\n",
       "      <td>0.42</td>\n",
       "      <td>0.0</td>\n",
       "      <td>4484</td>\n",
       "      <td>2017</td>\n",
       "      <td>4.484</td>\n",
       "      <td>no</td>\n",
       "    </tr>\n",
       "    <tr>\n",
       "      <th>163799</th>\n",
       "      <td>nakonde</td>\n",
       "      <td>2017-01-12</td>\n",
       "      <td>2017-05-27</td>\n",
       "      <td>0.42</td>\n",
       "      <td>0.0</td>\n",
       "      <td>4486</td>\n",
       "      <td>2017</td>\n",
       "      <td>4.486</td>\n",
       "      <td>no</td>\n",
       "    </tr>\n",
       "  </tbody>\n",
       "</table>\n",
       "<p>84399 rows × 9 columns</p>\n",
       "</div>"
      ],
      "text/plain": [
       "                cname   planting    harvest   lai  wsgd  gwad  year  yield   \n",
       "0          kanchibiya 1998-01-01 1998-05-11  0.45   0.0  3751  1998  3.751  \\\n",
       "1               kaoma 1998-01-01 1998-05-11  0.45   0.0  3752  1998  3.752   \n",
       "2             kabompo 1998-01-01 1998-05-11  0.45   0.0  3753  1998  3.753   \n",
       "3       kapiri mposhi 1998-01-01 1998-05-11  0.45   0.0  3751  1998  3.751   \n",
       "4             chipili 1998-01-01 1998-05-11  0.45   0.0  3751  1998  3.751   \n",
       "...               ...        ...        ...   ...   ...   ...   ...    ...   \n",
       "163795        nakonde 2017-01-09 2017-05-24  0.42   0.0  4372  2017  4.372   \n",
       "163796        nakonde 2017-01-10 2017-05-26  0.43   0.0  4525  2017  4.525   \n",
       "163797        nakonde 2017-01-10 2017-05-26  0.43   0.0  4529  2017  4.529   \n",
       "163798        nakonde 2017-01-12 2017-05-27  0.42   0.0  4484  2017  4.484   \n",
       "163799        nakonde 2017-01-12 2017-05-27  0.42   0.0  4486  2017  4.486   \n",
       "\n",
       "       season  \n",
       "0          no  \n",
       "1          no  \n",
       "2          no  \n",
       "3          no  \n",
       "4          no  \n",
       "...       ...  \n",
       "163795     no  \n",
       "163796     no  \n",
       "163797     no  \n",
       "163798     no  \n",
       "163799     no  \n",
       "\n",
       "[84399 rows x 9 columns]"
      ]
     },
     "execution_count": 16,
     "metadata": {},
     "output_type": "execute_result"
    }
   ],
   "source": [
    "#season [10,11,12, 1,2,3,4,5,6]\n",
    "# #  part1=[1,2, 3, 4,5,6], part1 = [10, 11, 12], season part1=[10, 11, 12]\n",
    "# rheas_chirps_part1=rheas_chirps\n",
    "\n",
    "# part1 = ['none', 'none', 'none','none','none','none','none','none','none','yes','yes','yes']\n",
    "# month_to_part1=dict(zip(range(1,13), part1))\n",
    "# rheas_chirps_part1['season']= rheas_chirps_part1['planting'].dt.month.map(month_to_part1)\n",
    "rheas_chirps_part1=rheas_chirps\n",
    "part1 = ['no', 'yes', 'yes', 'yes','yes', 'yes', 'none', 'none', 'none', 'none', 'none', 'none']\n",
    "month_to_part1=dict(zip(range(1,13), part1))\n",
    "rheas_chirps_part1['season']= rheas_chirps_part1['planting'].dt.month.map(month_to_part1)\n",
    "rheas_chirps_part1\n",
    "\n",
    "# rheas_chirps_part2=rheas_chirps\n",
    "# part2 = ['yes', 'yes', 'yes', 'yes','yes', 'yes', 'none', 'none', 'none', 'none', 'none', 'none']\n",
    "# month_to_part2=dict(zip(range(1,13), part2))\n",
    "# rheas_chirps_part2['season']= rheas_chirps_part2['planting'].dt.month.map(month_to_part2)\n",
    "rheas_chirps_part1[rheas_chirps_part1['season']=='no']\n"
   ]
  },
  {
   "cell_type": "code",
   "execution_count": null,
   "metadata": {},
   "outputs": [],
   "source": [
    "# Extract data only for the seasons\n",
    "rheas_chirps_part1= rheas_chirps_part1.loc[rheas_chirps_part1['season']=='yes']\n",
    "rheas_chirps_part2= rheas_chirps_part2.loc[rheas_chirps_part2['season']=='yes']\n"
   ]
  },
  {
   "cell_type": "code",
   "execution_count": null,
   "metadata": {},
   "outputs": [],
   "source": [
    "\n",
    "# extract data for 2022 and 2023 only\n",
    "rheas_chirps_2022_2=rheas_chirps_part2.loc[rheas_chirps_part2['year']==2022].reset_index()\n",
    "rheas_chirps_2023_1=rheas_chirps_part1.loc[rheas_chirps_part1['year']==2023].reset_index()\n",
    "rheas_chirps_2022=pd.concat([rheas_chirps_2022_2,rheas_chirps_2023_1],axis=0)\n"
   ]
  },
  {
   "cell_type": "code",
   "execution_count": null,
   "metadata": {},
   "outputs": [
    {
     "data": {
      "text/html": [
       "<div>\n",
       "<style scoped>\n",
       "    .dataframe tbody tr th:only-of-type {\n",
       "        vertical-align: middle;\n",
       "    }\n",
       "\n",
       "    .dataframe tbody tr th {\n",
       "        vertical-align: top;\n",
       "    }\n",
       "\n",
       "    .dataframe thead th {\n",
       "        text-align: right;\n",
       "    }\n",
       "</style>\n",
       "<table border=\"1\" class=\"dataframe\">\n",
       "  <thead>\n",
       "    <tr style=\"text-align: right;\">\n",
       "      <th></th>\n",
       "      <th>cname</th>\n",
       "      <th>yield</th>\n",
       "    </tr>\n",
       "  </thead>\n",
       "  <tbody>\n",
       "  </tbody>\n",
       "</table>\n",
       "</div>"
      ],
      "text/plain": [
       "Empty DataFrame\n",
       "Columns: [cname, yield]\n",
       "Index: []"
      ]
     },
     "execution_count": 38,
     "metadata": {},
     "output_type": "execute_result"
    }
   ],
   "source": [
    "# # aggregate \n",
    "rheas_chirps_2022=rheas_chirps_2022.groupby(['cname'], as_index=False).agg({'yield': 'mean'})\n",
    "rheas_chirps_2022"
   ]
  },
  {
   "cell_type": "code",
   "execution_count": null,
   "metadata": {},
   "outputs": [
    {
     "data": {
      "text/plain": [
       "72"
      ]
     },
     "execution_count": 39,
     "metadata": {},
     "output_type": "execute_result"
    }
   ],
   "source": [
    "# Read shapefiles and rename columns\n",
    "country_shapefile = gpd.read_file(\"data/shp/gadm36_ZMB_0.shp\")\n",
    "district_shp = gpd.read_file(\"data/shp/gadm36_ZMB_2.shp\")\n",
    "\n",
    "\n",
    "# Rename kenya_shp \n",
    "district_shp=district_shp.rename(columns={'NAME1':'cname'})\n",
    "# district_shp['cname']=district_shp['NAME_2']\n",
    "# len(district_shp.cname.unique())\n",
    "district_shp['cname']=district_shp['cname'].str.lower()\n",
    "district_shp['cname']=district_shp['cname'].str.replace('-', '', regex=True)\n",
    "district_shp['cname']=district_shp['cname'].str.strip()\n",
    "len(district_shp.cname.unique())"
   ]
  },
  {
   "cell_type": "code",
   "execution_count": null,
   "metadata": {},
   "outputs": [
    {
     "ename": "NameError",
     "evalue": "name 'rheas_tamsat_2022' is not defined",
     "output_type": "error",
     "traceback": [
      "\u001b[0;31m---------------------------------------------------------------------------\u001b[0m",
      "\u001b[0;31mNameError\u001b[0m                                 Traceback (most recent call last)",
      "Cell \u001b[0;32mIn[40], line 2\u001b[0m\n\u001b[1;32m      1\u001b[0m \u001b[39m# Merge data into shapefiles\u001b[39;00m\n\u001b[0;32m----> 2\u001b[0m tamsat_2022 \u001b[39m=\u001b[39m pd\u001b[39m.\u001b[39mmerge(district_shp, rheas_tamsat_2022, on\u001b[39m=\u001b[39m\u001b[39m\"\u001b[39m\u001b[39mcname\u001b[39m\u001b[39m\"\u001b[39m)\n",
      "\u001b[0;31mNameError\u001b[0m: name 'rheas_tamsat_2022' is not defined"
     ]
    }
   ],
   "source": [
    "# Merge data into shapefiles\n",
    "tamsat_2022 = pd.merge(district_shp, rheas_tamsat_2022, on=\"cname\")"
   ]
  },
  {
   "cell_type": "code",
   "execution_count": null,
   "metadata": {},
   "outputs": [],
   "source": [
    "geo_source_tamsat_2022 = GeoJSONDataSource(geojson=tamsat_2022.to_json())\n",
    "country_geo_source = GeoJSONDataSource(geojson=country_shapefile.to_json())"
   ]
  },
  {
   "cell_type": "code",
   "execution_count": null,
   "metadata": {},
   "outputs": [],
   "source": [
    "color_mapper = LinearColorMapper(palette=\"RdBu10\", low=3.0, high=3.5)\n",
    "p1 = figure(title='Unimodal_Long Rains Season Yield (mt/ha) - 2022',\n",
    "           outer_width=350, outer_height=300)\n",
    "\n",
    "p1.multi_line('xs','ys', source=country_geo_source,\n",
    "            line_color='black', line_width=0.5)\n",
    "\n",
    "p1.patches('xs','ys', source=geo_source_tamsat_2022,\n",
    "          fill_color={'field': 'yield', 'transform': color_mapper},\n",
    "          fill_alpha=0.7, line_color='black', line_width=0.5)\n",
    "\n",
    "hover = HoverTool(tooltips=[('District: ', '@cname'), ('Yield', '@yield')])\n",
    "p1.add_tools(hover)\n",
    "\n",
    "color_bar = ColorBar(color_mapper=color_mapper, label_standoff=8, width=20, height=300,\n",
    "                     border_line_color=None, location=(0,0), orientation='vertical')\n",
    "p1.add_layout(color_bar, 'right')"
   ]
  },
  {
   "cell_type": "code",
   "execution_count": null,
   "metadata": {},
   "outputs": [],
   "source": [
    "# color_mapper = LinearColorMapper(palette=\"RdBu10\", low=3.0, high=3.5)\n",
    "# p2 = figure(title='Bimodal_MAM Season Yield (mt/ha) - 2022',\n",
    "#            outer_width=350, outer_height=300)\n",
    "\n",
    "# p2.multi_line('xs','ys', source=country_geo_source,\n",
    "#             line_color='black', line_width=0.5)\n",
    "\n",
    "# p2.patches('xs','ys', source=geo_source_mam_2022,\n",
    "#           fill_color={'field': 'yield', 'transform': color_mapper},\n",
    "#           fill_alpha=0.7, line_color='black', line_width=0.5)\n",
    "\n",
    "# hover = HoverTool(tooltips=[('District: ', '@cname'), ('Yield', '@yield')])\n",
    "# p2.add_tools(hover)\n",
    "\n",
    "# color_bar = ColorBar(color_mapper=color_mapper, label_standoff=8, width=20, height=300,\n",
    "#                      border_line_color=None, location=(0,0), orientation='vertical')\n",
    "# p2.add_layout(color_bar, 'right')"
   ]
  },
  {
   "cell_type": "code",
   "execution_count": null,
   "metadata": {},
   "outputs": [],
   "source": [
    "# # Bimodal Season 2022\n",
    "# color_mapper1 = LinearColorMapper(palette=\"RdBu10\", low=3.0, high=3.5)\n",
    "# p3 = figure(title=' Bimodal_ MAM Season  Yield(mt/Ha) - 2023',\n",
    "#            outer_width=350, outer_height=300)\n",
    "\n",
    "# p3.multi_line('xs','ys', source=country_geo_source,\n",
    "#             line_color='black', line_width=0.5)\n",
    "\n",
    "# p3.patches('xs','ys', source=geo_source_mam_2023,\n",
    "#           fill_color={'field': 'yield', 'transform': color_mapper1},\n",
    "#           fill_alpha=0.7, line_color='black', line_width=0.5)\n",
    "\n",
    "# hover = HoverTool(tooltips=[('District', '@cname'), ('Yield', '@yield')])\n",
    "# p3.add_tools(hover)\n",
    "\n",
    "# color_bar = ColorBar(color_mapper=color_mapper1, label_standoff=8, width=20, height=300,\n",
    "#                      border_line_color=None, location=(0,0), orientation='vertical')\n",
    "# p3.add_layout(color_bar, 'right')"
   ]
  },
  {
   "cell_type": "code",
   "execution_count": null,
   "metadata": {},
   "outputs": [],
   "source": [
    "# # Bimodal Season 2022\n",
    "# color_mapper1 = LinearColorMapper(palette=\"RdBu10\", low=3.0, high=3.5)\n",
    "# p4 = figure(title='Bimodal_OND Season  Yield(mt/ha) - 2022',\n",
    "#            outer_width=350, outer_height=300)\n",
    "\n",
    "# p4.multi_line('xs','ys', source=country_geo_source,\n",
    "#             line_color='black', line_width=0.5)\n",
    "\n",
    "# p4.patches('xs','ys', source=geo_source_ond_2022,\n",
    "#           fill_color={'field': 'yield', 'transform': color_mapper1},\n",
    "#           fill_alpha=0.7, line_color='black', line_width=0.5)\n",
    "\n",
    "# hover = HoverTool(tooltips=[('District', '@cname'), ('Yield', '@yield')])\n",
    "# p4.add_tools(hover)\n",
    "\n",
    "# color_bar = ColorBar(color_mapper=color_mapper1, label_standoff=8, width=20, height=300,\n",
    "#                      border_line_color=None, location=(0,0), orientation='vertical')\n",
    "# p4.add_layout(color_bar, 'right')"
   ]
  },
  {
   "cell_type": "code",
   "execution_count": null,
   "metadata": {},
   "outputs": [],
   "source": [
    "\n",
    "# grid=gridplot([ p2, p3, p4, p1],ncols=2, width=650, height=600)\n",
    "# grid = gridplot([[p2, p3], [None, p4]], width=650, height=600)\n",
    "grid = gridplot([p1,], ncols=1, width=650, height=600)\n",
    "show(grid)"
   ]
  },
  {
   "cell_type": "code",
   "execution_count": null,
   "metadata": {},
   "outputs": [
    {
     "name": "stderr",
     "output_type": "stream",
     "text": [
      "C:\\Users\\kasit\\AppData\\Local\\Temp\\ipykernel_9576\\1141731985.py:3: UserWarning: save() called but no resources were supplied and output_file(...) was never called, defaulting to resources.CDN\n",
      "  save(grid, filename='../zambia.html', title='Maize Yield Maps')\n"
     ]
    },
    {
     "data": {
      "text/plain": [
       "'d:\\\\RONO\\\\rheas\\\\maize_crop_modeling\\\\zambia.html'"
      ]
     },
     "execution_count": 83,
     "metadata": {},
     "output_type": "execute_result"
    }
   ],
   "source": [
    "from bokeh.io import save\n",
    "# # # specify the output file name and location\n",
    "save(grid, filename='../zambia.html', title='Maize Yield Maps')"
   ]
  }
 ],
 "metadata": {
  "kernelspec": {
   "display_name": "Python 3",
   "language": "python",
   "name": "python3"
  },
  "language_info": {
   "codemirror_mode": {
    "name": "ipython",
    "version": 3
   },
   "file_extension": ".py",
   "mimetype": "text/x-python",
   "name": "python",
   "nbconvert_exporter": "python",
   "pygments_lexer": "ipython3",
   "version": "3.8.10"
  },
  "orig_nbformat": 4,
  "vscode": {
   "interpreter": {
    "hash": "f745412fe046abefa732567d83acd42b32594d10d0c166ca5878f9c42d7fed86"
   }
  }
 },
 "nbformat": 4,
 "nbformat_minor": 2
}
