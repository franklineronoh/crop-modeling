{
 "cells": [
  {
   "cell_type": "code",
   "execution_count": 197,
   "metadata": {},
   "outputs": [],
   "source": [
    "# import packages\n",
    "import pandas as pd\n",
    "import numpy as np\n",
    "import geopandas as gpd\n"
   ]
  },
  {
   "cell_type": "code",
   "execution_count": 198,
   "metadata": {},
   "outputs": [],
   "source": [
    "# read files\n",
    "preharvest= pd.read_csv('data/preharvest/Zambia_District _Maize_Forecasting_2011_2022.xlsx - 2022.csv')\n",
    "\n",
    "# set row 1 to column names and remove white spaces and convert to lower case\n",
    "preharvest.columns=preharvest.iloc[0].to_list()\n",
    "preharvest.columns= preharvest.columns.str.strip().str.lower()\n",
    "preharvest.columns=preharvest.columns.str.replace(' ', '', regex=True)\n",
    "preharvest=preharvest[1:]\n",
    "preharvest.columns\n",
    "preharvest=preharvest[['district', 'planted_ha', 'harvested_ha', 'production_mt','yield(mt/ha)', 'year']]"
   ]
  },
  {
   "cell_type": "code",
   "execution_count": 199,
   "metadata": {},
   "outputs": [
    {
     "data": {
      "text/plain": [
       "Index(['district', 'planted_ha', 'harvested_ha', 'production_mt',\n",
       "       'yield(mt/ha)', 'year'],\n",
       "      dtype='object')"
      ]
     },
     "execution_count": 199,
     "metadata": {},
     "output_type": "execute_result"
    }
   ],
   "source": [
    "preharvest['district']=preharvest['district'].str.strip()\n",
    "\n",
    "preharvest['district']=preharvest['district'].str.replace(' ', '-', regex=True)\n",
    "# preharvest['district']=preharvest['district'].str.replace('-', '', regex=True)\n",
    "preharvest['district']=preharvest['district'].str.lower()\n",
    "preharvest['planted_ha']=preharvest['planted_ha'].str.replace(' ', '', regex=True)\n",
    "preharvest['planted_ha']=preharvest['planted_ha'].str.replace(',', '', regex=True)\n",
    "preharvest['harvested_ha']=preharvest['harvested_ha'].str.replace(' ', '', regex=True)\n",
    "preharvest['harvested_ha']=preharvest['harvested_ha'].str.replace(',', '', regex=True)\n",
    "preharvest['production_mt']=preharvest['production_mt'].str.replace(' ', '', regex=True)\n",
    "preharvest['production_mt']=preharvest['production_mt'].str.replace(',', '', regex=True)\n",
    "preharvest['yield(mt/ha)']=preharvest['yield(mt/ha)'].str.replace(' ', '', regex=True)\n",
    "preharvest['year']=preharvest['year'].str.replace(' ', '', regex=True)\n",
    "\n",
    "preharvest.district.unique()\n",
    "preharvest.columns"
   ]
  },
  {
   "cell_type": "code",
   "execution_count": 200,
   "metadata": {},
   "outputs": [],
   "source": [
    "# mask off non district data\n",
    "preharvest.district.unique()\n",
    "non_district=['total', 'prov-total','provincial-total']\n",
    "preharvest_empty_df=pd.DataFrame(columns=['district', 'planted_ha', 'harvested_ha', 'production_mt','yield(mt/ha)', 'year'])\n",
    "for i in non_district:\n",
    "    preharvest=preharvest.loc[preharvest['district']!=i]\n",
    "    preharvest=pd.concat([preharvest_empty_df,preharvest], axis=0)"
   ]
  },
  {
   "cell_type": "code",
   "execution_count": 201,
   "metadata": {},
   "outputs": [],
   "source": [
    "# sort by districts\n",
    "preharvest=preharvest.sort_values('district',ascending=True, axis=0,ignore_index=True)"
   ]
  },
  {
   "cell_type": "code",
   "execution_count": 204,
   "metadata": {},
   "outputs": [
    {
     "data": {
      "text/plain": [
       "75"
      ]
     },
     "execution_count": 204,
     "metadata": {},
     "output_type": "execute_result"
    }
   ],
   "source": [
    "# calculate yield\n",
    "# convert to numeric\n",
    "preharvest['production_mt']=pd.to_numeric(preharvest['production_mt'], errors='coerce')\n",
    "preharvest['planted_ha']=pd.to_numeric(preharvest['planted_ha'], errors='coerce')\n",
    "preharvest['harvested_ha']=pd.to_numeric(preharvest['harvested_ha'], errors='coerce')\n",
    "\n",
    "preharvest['yield']=preharvest['production_mt']/preharvest['harvested_ha']\n",
    "# preharvest\n",
    "\n",
    "\n",
    "len(preharvest.district.unique())\n",
    "# preharvest.to_csv('data/preharvest/preharvest_cleaned.csv')\n",
    "len(preharvest.district.unique())"
   ]
  }
 ],
 "metadata": {
  "kernelspec": {
   "display_name": "env",
   "language": "python",
   "name": "python3"
  },
  "language_info": {
   "codemirror_mode": {
    "name": "ipython",
    "version": 3
   },
   "file_extension": ".py",
   "mimetype": "text/x-python",
   "name": "python",
   "nbconvert_exporter": "python",
   "pygments_lexer": "ipython3",
   "version": "3.8.10"
  }
 },
 "nbformat": 4,
 "nbformat_minor": 2
}
