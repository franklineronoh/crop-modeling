{
 "cells": [
  {
   "cell_type": "code",
   "execution_count": 40,
   "metadata": {},
   "outputs": [],
   "source": [
    "# import packages\n",
    "import pandas as pd\n",
    "import numpy as np\n",
    "import geopandas as gpd\n"
   ]
  },
  {
   "cell_type": "code",
   "execution_count": 41,
   "metadata": {},
   "outputs": [],
   "source": [
    "# read files\n",
    "district_shapefile= gpd.read_file('data/shp/districts.shp')\n",
    "province_shapefile= gpd.read_file('data/shp/zambia_provinces.shp')"
   ]
  },
  {
   "cell_type": "code",
   "execution_count": 42,
   "metadata": {},
   "outputs": [],
   "source": [
    "# remove spaces for district shapefile \n",
    "district_shapefile.columns=district_shapefile.columns.str.lower()\n",
    "district_shapefile.columns=district_shapefile.columns.str.strip()\n",
    "district_shapefile['district_b']=district_shapefile['name1']\n",
    "district_shapefile['province_b']=district_shapefile['province']\n",
    "\n",
    "# remove spaces for the district_b and province_b colunms\n",
    "district_shapefile['district_b']=district_shapefile['district_b'].str.lower()\n",
    "district_shapefile['district_b']=district_shapefile['district_b'].str.strip()\n",
    "district_shapefile['district_b']=district_shapefile['district_b'].str.replace(' ', '', regex=True)\n",
    "district_shapefile['district_b']=district_shapefile['district_b'].str.replace('-', '', regex=True)\n",
    "\n",
    "district_shapefile['province_b']=district_shapefile['province_b'].str.lower()\n",
    "district_shapefile['province_b']=district_shapefile['province_b'].str.strip()\n",
    "district_shapefile['province_b']=district_shapefile['province_b'].str.replace(' ', '', regex=True)\n",
    "district_shapefile['province_b']=district_shapefile['province_b'].str.replace('-', '', regex=True)\n"
   ]
  },
  {
   "cell_type": "code",
   "execution_count": 44,
   "metadata": {},
   "outputs": [],
   "source": [
    "# remove spaces for provincial shapefile \n",
    "province_shapefile.columns=province_shapefile.columns.str.lower()\n",
    "province_shapefile.columns=province_shapefile.columns.str.strip()\n",
    "province_shapefile['province_b']=province_shapefile['name1']\n",
    "# province_shapefile['province_b']=province_shapefile['province']\n",
    "\n",
    "# # remove spaces for the district_b and province_b colunms\n",
    "province_shapefile['province_b']=province_shapefile['province_b'].str.lower()\n",
    "province_shapefile['province_b']=province_shapefile['province_b'].str.strip()\n",
    "province_shapefile['province_b']=province_shapefile['province_b'].str.replace(' ', '', regex=True)\n",
    "province_shapefile['province_b']=province_shapefile['province_b'].str.replace('-', '', regex=True)\n",
    "\n"
   ]
  },
  {
   "cell_type": "code",
   "execution_count": null,
   "metadata": {},
   "outputs": [],
   "source": [
    "province_shapefile.to_file('data/shp/zmb_province_cleaned.shp')\n",
    "district_shapefile.to_file('data/shp/zmb_district_cleaned.shp')"
   ]
  }
 ],
 "metadata": {
  "kernelspec": {
   "display_name": "env",
   "language": "python",
   "name": "python3"
  },
  "language_info": {
   "codemirror_mode": {
    "name": "ipython",
    "version": 3
   },
   "file_extension": ".py",
   "mimetype": "text/x-python",
   "name": "python",
   "nbconvert_exporter": "python",
   "pygments_lexer": "ipython3",
   "version": "3.8.10"
  }
 },
 "nbformat": 4,
 "nbformat_minor": 2
}
