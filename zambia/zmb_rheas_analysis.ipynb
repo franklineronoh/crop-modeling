{
 "cells": [
  {
   "cell_type": "code",
   "execution_count": 2,
   "metadata": {},
   "outputs": [
    {
     "ename": "ModuleNotFoundError",
     "evalue": "No module named 'matplotlib'",
     "output_type": "error",
     "traceback": [
      "\u001b[1;31m---------------------------------------------------------------------------\u001b[0m",
      "\u001b[1;31mModuleNotFoundError\u001b[0m                       Traceback (most recent call last)",
      "Cell \u001b[1;32mIn[2], line 11\u001b[0m\n\u001b[0;32m      9\u001b[0m \u001b[39mfrom\u001b[39;00m \u001b[39mbokeh\u001b[39;00m\u001b[39m.\u001b[39;00m\u001b[39mpalettes\u001b[39;00m \u001b[39mimport\u001b[39;00m BrBG, PiYG, RdGy, RdYlGn, YlGnBu\n\u001b[0;32m     10\u001b[0m \u001b[39mfrom\u001b[39;00m \u001b[39mbokeh\u001b[39;00m\u001b[39m.\u001b[39;00m\u001b[39mmodels\u001b[39;00m \u001b[39mimport\u001b[39;00m LinearColorMapper, ColorBar\n\u001b[1;32m---> 11\u001b[0m \u001b[39mimport\u001b[39;00m \u001b[39mmatplotlib\u001b[39;00m\u001b[39m.\u001b[39;00m\u001b[39mpyplot\u001b[39;00m \u001b[39mas\u001b[39;00m \u001b[39mplt\u001b[39;00m\n",
      "\u001b[1;31mModuleNotFoundError\u001b[0m: No module named 'matplotlib'"
     ]
    }
   ],
   "source": [
    "import pandas as pd\n",
    "import numpy as np\n",
    "import pandas as pd\n",
    "import geopandas as gpd\n",
    "from bokeh.layouts import gridplot\n",
    "from bokeh.plotting import figure, show\n",
    "from bokeh.models import GeoJSONDataSource, ColumnDataSource, HoverTool\n",
    "from bokeh.palettes import Viridis256, Inferno256, Magma256\n",
    "from bokeh.palettes import BrBG, PiYG, RdGy, RdYlGn, YlGnBu\n",
    "from bokeh.models import LinearColorMapper, ColorBar\n",
    "import matplotlib.pyplot as plt\n"
   ]
  },
  {
   "cell_type": "code",
   "execution_count": 5,
   "metadata": {},
   "outputs": [
    {
     "data": {
      "text/html": [
       "<div>\n",
       "<style scoped>\n",
       "    .dataframe tbody tr th:only-of-type {\n",
       "        vertical-align: middle;\n",
       "    }\n",
       "\n",
       "    .dataframe tbody tr th {\n",
       "        vertical-align: top;\n",
       "    }\n",
       "\n",
       "    .dataframe thead th {\n",
       "        text-align: right;\n",
       "    }\n",
       "</style>\n",
       "<table border=\"1\" class=\"dataframe\">\n",
       "  <thead>\n",
       "    <tr style=\"text-align: right;\">\n",
       "      <th></th>\n",
       "      <th>Region</th>\n",
       "      <th>planting</th>\n",
       "      <th>harvest</th>\n",
       "      <th>lai</th>\n",
       "      <th>wsgd</th>\n",
       "      <th>gwad</th>\n",
       "      <th>year</th>\n",
       "      <th>pmonth</th>\n",
       "    </tr>\n",
       "  </thead>\n",
       "  <tbody>\n",
       "  </tbody>\n",
       "</table>\n",
       "</div>"
      ],
      "text/plain": [
       "Empty DataFrame\n",
       "Columns: [Region, planting, harvest, lai, wsgd, gwad, year, pmonth]\n",
       "Index: []"
      ]
     },
     "execution_count": 5,
     "metadata": {},
     "output_type": "execute_result"
    }
   ],
   "source": [
    "df=pd.read_csv('data/rheas_model/zmb_n_25_tamsat.csv')\n",
    "df.rename(columns={'cname':'Region'}, inplace=True)\n",
    "data=df\n",
    "data['planting']=pd.to_datetime(data['planting'], format='%Y/%m/%d')\n",
    "data['harvest'] = pd.to_datetime(data['harvest'], format='%Y/%m/%d')\n",
    "data['year'] = data['planting'].dt.year\n",
    "data['pmonth'] = data['planting'].dt.month\n",
    "data['gwad']=data['gwad']/1000\n",
    "data1=data[data['year']==2023]\n",
    "data1\n",
    "# OND_data=data1.loc[(data1['pmonth']>=10) & (data1['pmonth']<=12) ]\n",
    "# OND_data1=OND_data.groupby(['Region', 'year'], as_index=False).agg({'gwad': 'mean'})\n",
    "\n",
    "\n",
    "# MAM_data=data1.loc[(data1['pmonth']>=3) & (data1['pmonth']<=5) ]\n",
    "# MAM_data1=MAM_data.groupby(['Region', 'year'], as_index=False).agg({'gwad': 'mean'})\n",
    "\n",
    "# MAM_data['season']='MAM'\n",
    "# MAM_data\n",
    "# MAM_data=data1.loc[(data1['hmonth']>2) & (data1['hmonth']<=5) ]\n",
    "# MAM_data['season']='MAM'\n",
    "# OND_data['season']='OND'\n",
    "# OND_data.groupby(['Region', 'season'], as_index=False).agg({'gwad': 'mean'})\n",
    "# data=data[data['year']==2023]\n",
    "\n",
    "# \n",
    "# \n",
    "# MAM_data=data[data['year']==2023]\n",
    "# MAM_data\n",
    "# rh_mam23= MAM_data1\n",
    "# rh_lr23=OND_data1\n",
    "# rh_lr23\n",
    "# rh_mam23\n",
    "\n",
    "# # rh_mam2\n",
    "# #pd.pivot_table(data, values='gwad', index=[ 'planting', 'harvest'], columns='cname')"
   ]
  },
  {
   "cell_type": "code",
   "execution_count": 302,
   "metadata": {},
   "outputs": [],
   "source": [
    "# def format_df(filename):\n",
    "#     df = pd.read_csv(filename)\n",
    "#     df['harvest'] = pd.to_datetime(df['harvest'], format='%Y/%m/%d')\n",
    "#     df['planting'] = pd.to_datetime(df['planting'], format='%Y/%m/%d')\n",
    "#     df['date'] = df['harvest'].dt.strftime(\"%Y\")\n",
    "#     df = df.rename(columns={'cname': 'Region'})\n",
    "#     df['gwad'] =df['gwad']/1000\n",
    "#     #df = df.rename(columns={df.columns[1]: \"Region\"})\n",
    "#     #df['Region'] = df['Region'].str.upper()\n",
    "#     return df"
   ]
  },
  {
   "cell_type": "code",
   "execution_count": 303,
   "metadata": {},
   "outputs": [],
   "source": [
    "# data=pd.read_csv('rheas/data/kenya_n_25_tam_yields.csv')\n",
    "# data['harvest']= pd.to_datetime(data['harvest'], format=\"%Y/%m/%d\" )\n",
    "# data['gwad']= data['gwad']/1000\n",
    "# data['planting']= pd.to_datetime(data['planting'], format=\"%Y/%m/%d\" )\n",
    "# data['pyear']=data['planting'].dt.year\n",
    "# data.groupby(['cname', 'pyear'], as_index=False).agg({'gwad': 'mean'})\n",
    "\n",
    "\n"
   ]
  },
  {
   "cell_type": "code",
   "execution_count": 304,
   "metadata": {},
   "outputs": [],
   "source": [
    "# Season 1:  October--August (LR)\n",
    "#Generally the maize growing season in Kenya can be grouped into two e.g. \n",
    "#March--October and September--February. So we will aggregate the metrics and \n",
    "# #forecast with this condition using the function `RH_metrics`.\n",
    "# lrStart = []\n",
    "# lrEnd = []\n",
    "# def LR_metrics(lr, lrStart, lrEnd, season):\n",
    "#     lr.loc[(pd.to_datetime(lr['planting']).dt.month.isin(lrStart)) & (pd.to_datetime(lr['harvest']).dt.month.isin(lrEnd)), 'Season'] = season\n",
    "#     lr = lr.groupby(['Region', 'date', 'Season'], as_index=False).agg({'gwad': 'mean'})\n",
    "\n",
    "#     return lr\n",
    "\n",
    "# rh_lr = LR_metrics(data, lrStart, lrEnd, \"LR\")\n",
    "# print(rh_lr.head())"
   ]
  },
  {
   "cell_type": "code",
   "execution_count": 305,
   "metadata": {},
   "outputs": [],
   "source": [
    "# # rh_lr23=rh_lr[rh_lr[\"date\"] == '2023'] \n",
    "# print(rh_lr23.head())"
   ]
  },
  {
   "cell_type": "code",
   "execution_count": 306,
   "metadata": {},
   "outputs": [],
   "source": [
    "# # Shortrains season : Sep--Feb\n",
    "# mamStart = [9,10,11,12,1, 2]\n",
    "# mamEnd = [12, 1,5, 6, 7, 8]\n",
    "# def MAM_metrics(mam, mamStart, mamEnd, season):\n",
    "#     mam.loc[(pd.to_datetime(mam['planting']).dt.month.isin(mamStart)) & (pd.to_datetime(mam['harvest']).dt.month.isin(mamEnd)), 'Season'] = season\n",
    "#     mam = mam.groupby(['Region', 'date', 'Season'], as_index=False).agg({'gwad': 'mean'})\n",
    "\n",
    "#     return mam\n",
    "\n",
    "# rh_mam = MAM_metrics(data, mamStart, mamEnd, \"MAM\")\n",
    "# print(rh_mam.head())"
   ]
  },
  {
   "cell_type": "code",
   "execution_count": 307,
   "metadata": {},
   "outputs": [
    {
     "name": "stdout",
     "output_type": "stream",
     "text": [
      "            Region  year      gwad\n",
      "0          Baringo  2023  3.871475\n",
      "1            Bomet  2023  2.670975\n",
      "2          Bungoma  2023  4.035725\n",
      "3            Busia  2023  4.202475\n",
      "4  Elgeyo-Marakwet  2023  3.836275\n"
     ]
    }
   ],
   "source": [
    "# rh_mam23=rh_mam[rh_mam[\"date\"] == '2023'] \n",
    "print(rh_mam23.head())"
   ]
  },
  {
   "cell_type": "code",
   "execution_count": 308,
   "metadata": {},
   "outputs": [],
   "source": [
    "kenya_shp = gpd.read_file(\"rheas/shapefiles/gadm41_KEN_1.shp\")\n",
    "kenya_shp.rename(columns={'NAME1':'Region'}, inplace=True)\n",
    "country_shapefile = gpd.read_file(\"rheas/shapefiles/gadm41_KEN_1.shp\")\n",
    "\n",
    "# shapefile[\"NewDist20\"] = shapefile.index\n",
    "# print(shapefile)\n",
    "OND23 = pd.merge(kenya_shp, rh_lr23, on=\"Region\")\n",
    "MAM23 = pd.merge(kenya_shp, rh_mam23, on=\"Region\")\n",
    "\n",
    "# Setting yield 'gwad' values over water body to numpy NaN\n",
    "# LR23.loc[LR23['TYPE_2'] == 'Water body', 'gwad'] = np.NaN\n",
    "# MAM23.loc[MAM23['TYPE_2'] == 'Water body', 'gwad'] = np.NaN\n",
    "# def exlude(dataframe):\n",
    "#     if dataframe['TYPE_2'] == \"Wilaya\":\n",
    "#         return dataframe\n",
    "# exlude(MAM23)\n",
    "#MAM23.to_csv('rheas/dummy.csv',index=True)\n"
   ]
  },
  {
   "cell_type": "code",
   "execution_count": 309,
   "metadata": {},
   "outputs": [],
   "source": [
    "geo_sourceLR23 = GeoJSONDataSource(geojson=OND23.to_json())\n",
    "geo_sourceMAM23 = GeoJSONDataSource(geojson=MAM23.to_json())\n",
    "country_geo_source = GeoJSONDataSource(geojson=country_shapefile.to_json())"
   ]
  },
  {
   "cell_type": "code",
   "execution_count": 310,
   "metadata": {},
   "outputs": [],
   "source": [
    "color_mapper = LinearColorMapper(palette=\"RdBu10\", low=3.0, high=3.5)\n",
    "p1 = figure(title='MAM (Mt/Ha) - 2023',\n",
    "           outer_width=650, outer_height=600)\n",
    "\n",
    "p1.multi_line('xs','ys', source=country_geo_source,\n",
    "            line_color='black', line_width=0.5)\n",
    "\n",
    "p1.patches('xs','ys', source=geo_sourceLR23,\n",
    "          fill_color={'field': 'gwad', 'transform': color_mapper},\n",
    "          fill_alpha=0.7, line_color='black', line_width=0.5)\n",
    "\n",
    "hover = HoverTool(tooltips=[('District', '@Region'), ('gwad', '@gwad')])\n",
    "p1.add_tools(hover)\n",
    "\n",
    "color_bar = ColorBar(color_mapper=color_mapper, label_standoff=8, width=20, height=300,\n",
    "                     border_line_color=None, location=(0,0), orientation='vertical')\n",
    "p1.add_layout(color_bar, 'right')"
   ]
  },
  {
   "cell_type": "code",
   "execution_count": 311,
   "metadata": {},
   "outputs": [],
   "source": [
    "color_mapper1 = LinearColorMapper(palette=\"RdBu10\", low=3.0, high=3.5)\n",
    "p2 = figure(title='MAM (Mt/Ha) - 2023',\n",
    "           outer_width=650, outer_height=600)\n",
    "\n",
    "p2.multi_line('xs','ys', source=country_geo_source,\n",
    "            line_color='black', line_width=0.5)\n",
    "\n",
    "p2.patches('xs','ys', source=geo_sourceMAM23,\n",
    "          fill_color={'field': 'gwad', 'transform': color_mapper1},\n",
    "          fill_alpha=0.7, line_color='black', line_width=0.5)\n",
    "\n",
    "hover = HoverTool(tooltips=[('District', '@Region'), ('Yield', '@gwad')])\n",
    "p2.add_tools(hover)\n",
    "\n",
    "color_bar = ColorBar(color_mapper=color_mapper1, label_standoff=8, width=20, height=300,\n",
    "                     border_line_color=None, location=(0,0), orientation='vertical')\n",
    "p2.add_layout(color_bar, 'right')"
   ]
  },
  {
   "cell_type": "code",
   "execution_count": 312,
   "metadata": {},
   "outputs": [],
   "source": [
    "\n",
    "# p=gridplot([[p1, p2]], width=650, height=600)\n",
    "show(p2)"
   ]
  },
  {
   "cell_type": "code",
   "execution_count": 313,
   "metadata": {},
   "outputs": [
    {
     "name": "stderr",
     "output_type": "stream",
     "text": [
      "C:\\Users\\kasit\\AppData\\Local\\Temp\\ipykernel_13844\\694419692.py:3: UserWarning: save() called but no resources were supplied and output_file(...) was never called, defaulting to resources.CDN\n",
      "  save(p2, filename='yield_map.html', title='Yield Data Map')\n"
     ]
    },
    {
     "data": {
      "text/plain": [
       "'d:\\\\RONO\\\\RONO1\\\\majambo\\\\kenya\\\\yield_map.html'"
      ]
     },
     "execution_count": 313,
     "metadata": {},
     "output_type": "execute_result"
    }
   ],
   "source": [
    "# from bokeh.io import save\n",
    "# # specify the output file name and location\n",
    "save(p2, filename='yield_map.html', title='Yield Data Map')"
   ]
  },
  {
   "cell_type": "code",
   "execution_count": 314,
   "metadata": {},
   "outputs": [],
   "source": [
    "#from bokeh.io import save\n",
    "\n",
    "# specify the output file name and location\n",
    "#save(p, filename='yield_map.html', title='Yield Data Map')"
   ]
  }
 ],
 "metadata": {
  "kernelspec": {
   "display_name": "env",
   "language": "python",
   "name": "python3"
  },
  "language_info": {
   "codemirror_mode": {
    "name": "ipython",
    "version": 3
   },
   "file_extension": ".py",
   "mimetype": "text/x-python",
   "name": "python",
   "nbconvert_exporter": "python",
   "pygments_lexer": "ipython3",
   "version": "3.11.0"
  },
  "orig_nbformat": 4,
  "vscode": {
   "interpreter": {
    "hash": "37ca1068ef39b15f9a791bdf09114cd019bf700b9ccdf019ccdbb7e1658dc186"
   }
  }
 },
 "nbformat": 4,
 "nbformat_minor": 2
}
