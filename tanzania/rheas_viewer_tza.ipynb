{
 "cells": [
  {
   "cell_type": "code",
   "execution_count": 39,
   "metadata": {},
   "outputs": [],
   "source": [
    "# importing modules\n",
    "import pandas as pd\n",
    "import numpy as np\n",
    "import pandas as pd\n",
    "import geopandas as gpd\n",
    "from bokeh.layouts import gridplot\n",
    "from bokeh.plotting import figure, show\n",
    "from bokeh.models import GeoJSONDataSource, ColumnDataSource, HoverTool\n",
    "from bokeh.palettes import Viridis256, Inferno256, Magma256\n",
    "from bokeh.palettes import BrBG, PiYG, RdGy, RdYlGn, YlGnBu\n",
    "from bokeh.models import LinearColorMapper, ColorBar\n",
    "#import streamlit as st\n",
    "# #from streamlit_folium import st_folium\n",
    "#import folium\n",
    "#from leaflet import Map, GeoJSON"
   ]
  },
  {
   "cell_type": "code",
   "execution_count": 40,
   "metadata": {},
   "outputs": [],
   "source": [
    "# Reading the data\n",
    "# rheas_tamsat_unimodal=pd.read_csv('data/tza_n_25_tamsat_unimodal_2015_2023_maize.csv')\n",
    "# rheas_tamsat_bimodal=pd.read_csv('data/tza_n_25_bimodal_2015_2023_maize.csv')\n",
    "rheas_tamsat_unimodal=pd.read_csv('data/tza_n_25_tamsat_unimodal_newmask_2022_2023_maize.csv')\n",
    "rheas_tamsat_bimodal=pd.read_csv('data/tza_n_25_tamsat_bimodal_newmask_2022_2023_maize.csv')\n",
    "\n"
   ]
  },
  {
   "cell_type": "code",
   "execution_count": 41,
   "metadata": {},
   "outputs": [],
   "source": [
    "# change dates to months or years\n",
    "# unimodal\n",
    "rheas_tamsat_unimodal['planting']=pd.to_datetime(rheas_tamsat_unimodal['planting'], format='ISO8601')\n",
    "rheas_tamsat_unimodal['harvest']=pd.to_datetime(rheas_tamsat_unimodal['harvest'], format='ISO8601')\n",
    "rheas_tamsat_unimodal['harvest']=pd.to_datetime(rheas_tamsat_unimodal['harvest'], format='ISO8601')\n",
    "rheas_tamsat_unimodal['year'] = rheas_tamsat_unimodal['planting'].dt.year\n",
    "rheas_tamsat_unimodal['year'] = rheas_tamsat_unimodal['planting'].dt.year\n",
    "rheas_tamsat_unimodal['yield']=rheas_tamsat_unimodal['gwad']\n",
    "# rheas_tamsat_raw['harvest']=pd.to_datetime(rheas_tamsat_raw['harvest'], format='%Y/%m/%d')\n",
    "\n",
    "# bimodal\n",
    "rheas_tamsat_bimodal['planting']=pd.to_datetime(rheas_tamsat_bimodal['planting'], format='ISO8601')\n",
    "rheas_tamsat_bimodal['harvest']=pd.to_datetime(rheas_tamsat_bimodal['harvest'], format='ISO8601')\n",
    "rheas_tamsat_bimodal['harvest']=pd.to_datetime(rheas_tamsat_bimodal['harvest'], format='ISO8601')\n",
    "rheas_tamsat_bimodal['year'] = rheas_tamsat_bimodal['planting'].dt.year\n",
    "rheas_tamsat_bimodal['year'] = rheas_tamsat_bimodal['planting'].dt.year\n",
    "rheas_tamsat_bimodal['yield']=rheas_tamsat_bimodal['gwad']/1000"
   ]
  },
  {
   "cell_type": "code",
   "execution_count": 42,
   "metadata": {},
   "outputs": [],
   "source": [
    "# mask off water bodies eg Lake Victoria\n",
    "rheas_tamsat_bimodal=rheas_tamsat_bimodal.loc[rheas_tamsat_bimodal['cname']!='Lake Victoria']\n"
   ]
  },
  {
   "cell_type": "code",
   "execution_count": 43,
   "metadata": {},
   "outputs": [],
   "source": [
    "#unimodal (Long Rains) season [9,10,11,12, 1,2,3,4]\n",
    "#  unimodal_season1=[1,2, 3, 4], unimodal_season1 = [9, 10, 11, 12]\n",
    "# unimodal part1\n",
    "rheas_tamsat_unimodal1=rheas_tamsat_unimodal\n",
    "unimodal_season1 = ['unimodal', 'unimodal', 'unimodal', 'unimodal','none', 'none', 'none', \n",
    "                   'none', 'none', 'none', 'none', 'none']\n",
    "unimodal_month_to_season1=dict(zip(range(1,13), unimodal_season1))\n",
    "rheas_tamsat_unimodal1['season']= rheas_tamsat_unimodal1['planting'].dt.month.map(unimodal_month_to_season1)\n",
    "\n",
    "# unimodal part2\n",
    "rheas_tamsat_unimodal2=rheas_tamsat_unimodal\n",
    "unimodal_season2 = ['none', 'none', 'none', 'none','none', 'none', 'none', \n",
    "                   'none', 'unimodal', 'unimodal', 'unimodal', 'unimodal']\n",
    "unimodal_month_to_season2=dict(zip(range(1,13), unimodal_season2))\n",
    "rheas_tamsat_unimodal2['season']= rheas_tamsat_unimodal2['planting'].dt.month.map(unimodal_month_to_season2)\n"
   ]
  },
  {
   "cell_type": "code",
   "execution_count": 44,
   "metadata": {},
   "outputs": [],
   "source": [
    "# bimodal MAM and OND seasons MAM =[1, 2, 3, 4], OND =[9, 10, 11]\n",
    "bimodal_season = [1, 2, 3, 4]\n",
    "bimodal_season= ['mam', 'mam', 'mam', 'mam','none', 'none',\n",
    "                       'none', 'none', 'ond', 'ond', 'ond', 'none']\n",
    "bimodal_month_to_season=dict(zip(range(1,13), bimodal_season))\n",
    "rheas_tamsat_bimodal['season']= rheas_tamsat_bimodal['planting'].dt.month.map(bimodal_month_to_season)\n"
   ]
  },
  {
   "cell_type": "code",
   "execution_count": 45,
   "metadata": {},
   "outputs": [],
   "source": [
    "# # Extract data only for the seasons\n",
    "# long rains (unimodal)\n",
    "rheas_tamsat_unimodal1= rheas_tamsat_unimodal1.loc[rheas_tamsat_unimodal1['season']=='unimodal']\n",
    "rheas_tamsat_unimodal2= rheas_tamsat_unimodal2.loc[rheas_tamsat_unimodal2['season']=='unimodal']\n",
    "\n",
    "# bimodal MAM and OND\n",
    "rheas_tamsat_bimodal_mam=rheas_tamsat_bimodal.loc[rheas_tamsat_bimodal['season']=='mam']\n",
    "rheas_tamsat_bimodal_ond=rheas_tamsat_bimodal.loc[rheas_tamsat_bimodal['season']=='ond']\n"
   ]
  },
  {
   "cell_type": "code",
   "execution_count": 46,
   "metadata": {},
   "outputs": [],
   "source": [
    "\n",
    "# extract data for 2022 and 2023 only\n",
    "# unimodal\n",
    "rheas_tamsat_unimodal_2022_2=rheas_tamsat_unimodal2.loc[rheas_tamsat_unimodal2['year']==2022].reset_index()\n",
    "rheas_tamsat_unimodal_2023_1=rheas_tamsat_unimodal1.loc[rheas_tamsat_unimodal1['year']==2023].reset_index()\n",
    "rheas_tamsat_unimodal_2022=pd.concat([rheas_tamsat_unimodal_2022_2,rheas_tamsat_unimodal_2023_1],axis=0)\n",
    "\n",
    "# bimodal\n",
    "rheas_tamsat_bimodal_mam_2022=rheas_tamsat_bimodal_mam.loc[rheas_tamsat_bimodal_mam['year']==2022]\n",
    "rheas_tamsat_bimodal_mam_2023=rheas_tamsat_bimodal_mam.loc[rheas_tamsat_bimodal_mam['year']==2023]\n",
    "rheas_tamsat_bimodal_ond_2022=rheas_tamsat_bimodal_mam.loc[rheas_tamsat_bimodal_mam['year']==2022]"
   ]
  },
  {
   "cell_type": "code",
   "execution_count": 47,
   "metadata": {},
   "outputs": [],
   "source": [
    "# # aggregate \n",
    "rheas_tamsat_unimodal_2022=rheas_tamsat_unimodal_2022.groupby(['cname'], as_index=False).agg({'yield': 'mean'})\n",
    "rheas_tamsat_bimodal_mam_2022=rheas_tamsat_bimodal_mam_2022.groupby(['cname'], as_index=False).agg({'yield': 'mean'})\n",
    "rheas_tamsat_bimodal_mam_2023=rheas_tamsat_bimodal_mam_2023.groupby(['cname'], as_index=False).agg({'yield': 'mean'})\n",
    "rheas_tamsat_bimodal_ond_2022=rheas_tamsat_bimodal_ond_2022.groupby(['cname'], as_index=False).agg({'yield': 'mean'})"
   ]
  },
  {
   "cell_type": "code",
   "execution_count": 48,
   "metadata": {},
   "outputs": [],
   "source": [
    "# Read shapefiles and rename columns\n",
    "country_shapefile = gpd.read_file(\"shp/gadm36_TZA_0.shp\")\n",
    "# tanzania_unimodal_shp = gpd.read_file(\"../../../../gadm36_TZA_2_Unimodal.shp\")\n",
    "# tanzania_bimodal_shp = gpd.read_file(\"../../../../gadm36_TZA_2_Bimodal.shp\")\n",
    "\n",
    "tanzania_unimodal_shp = gpd.read_file(\"shp/tza_unimodal.shp\")\n",
    "tanzania_bimodal_shp = gpd.read_file(\"shp/tza_bimodal.shp\")\n",
    "\n",
    "\n",
    "# Rename kenya_shp \n",
    "tanzania_unimodal_shp=tanzania_unimodal_shp.rename(columns={'NAME1':'cname'})\n",
    "tanzania_bimodal_shp=tanzania_bimodal_shp.rename(columns={'NAME1':'cname'})\n",
    "# # tanzania_bimodal_shp=tanzania_unimodal_shp.rename(columns={'NAME_2':'cname'})\n",
    "# tanzania_unimodal_shp.to_file('../../../../shp/tza_unimodal.shp')\n",
    "# tanzania_bimodal_shp.to_file('../../../../shp/tza_bimodal.shp')\n",
    "# tanzania_bimodal_shp['cname']\n",
    "\n",
    "# tanzania_unimodal_shp.columns\n",
    "# # tanzania_unimodal_shp.cname.unique()\n",
    "# tanzania_unimodal_shp.cname.unique()\n",
    "# rheas_tamsat_unimodal.cname.unique()\n",
    "# # tanzania_bimodal_shp.cname.unique()"
   ]
  },
  {
   "cell_type": "code",
   "execution_count": 49,
   "metadata": {},
   "outputs": [],
   "source": [
    "# Merge data into shapefiles\n",
    "unimodal_2022 = pd.merge(tanzania_unimodal_shp, rheas_tamsat_unimodal_2022, on=\"cname\")\n",
    "bimodal_mam_2022= pd.merge(tanzania_bimodal_shp, rheas_tamsat_bimodal_mam_2022, on=\"cname\")\n",
    "bimodal_mam_2023= pd.merge(tanzania_bimodal_shp, rheas_tamsat_bimodal_mam_2023, on=\"cname\")\n",
    "bimodal_ond_2022= pd.merge(tanzania_bimodal_shp, rheas_tamsat_bimodal_ond_2022, on=\"cname\")"
   ]
  },
  {
   "cell_type": "code",
   "execution_count": 50,
   "metadata": {},
   "outputs": [],
   "source": [
    "geo_source_unimodal_2022 = GeoJSONDataSource(geojson=unimodal_2022.to_json())\n",
    "geo_source_mam_2022= GeoJSONDataSource(geojson=bimodal_mam_2022.to_json())\n",
    "geo_source_mam_2023= GeoJSONDataSource(geojson=bimodal_mam_2023.to_json())\n",
    "geo_source_ond_2022= GeoJSONDataSource(geojson=bimodal_ond_2022.to_json())\n",
    "country_geo_source = GeoJSONDataSource(geojson=country_shapefile.to_json())"
   ]
  },
  {
   "cell_type": "code",
   "execution_count": 51,
   "metadata": {},
   "outputs": [],
   "source": [
    "color_mapper = LinearColorMapper(palette=\"RdBu10\", low=3.0, high=3.5)\n",
    "p1 = figure(title='Unimodal_Long Rains Season Yield (mt/ha) - 2022',\n",
    "           outer_width=350, outer_height=300)\n",
    "\n",
    "p1.multi_line('xs','ys', source=country_geo_source,\n",
    "            line_color='black', line_width=0.5)\n",
    "\n",
    "p1.patches('xs','ys', source=geo_source_unimodal_2022,\n",
    "          fill_color={'field': 'yield', 'transform': color_mapper},\n",
    "          fill_alpha=0.7, line_color='black', line_width=0.5)\n",
    "\n",
    "hover = HoverTool(tooltips=[('District: ', '@cname'), ('Yield', '@yield')])\n",
    "p1.add_tools(hover)\n",
    "\n",
    "color_bar = ColorBar(color_mapper=color_mapper, label_standoff=8, width=20, height=300,\n",
    "                     border_line_color=None, location=(0,0), orientation='vertical')\n",
    "p1.add_layout(color_bar, 'right')"
   ]
  },
  {
   "cell_type": "code",
   "execution_count": 52,
   "metadata": {},
   "outputs": [],
   "source": [
    "color_mapper = LinearColorMapper(palette=\"RdBu10\", low=3.0, high=3.5)\n",
    "p2 = figure(title='Bimodal_MAM Season Yield (mt/ha) - 2022',\n",
    "           outer_width=350, outer_height=300)\n",
    "\n",
    "p2.multi_line('xs','ys', source=country_geo_source,\n",
    "            line_color='black', line_width=0.5)\n",
    "\n",
    "p2.patches('xs','ys', source=geo_source_mam_2022,\n",
    "          fill_color={'field': 'yield', 'transform': color_mapper},\n",
    "          fill_alpha=0.7, line_color='black', line_width=0.5)\n",
    "\n",
    "hover = HoverTool(tooltips=[('District: ', '@cname'), ('Yield', '@yield')])\n",
    "p2.add_tools(hover)\n",
    "\n",
    "color_bar = ColorBar(color_mapper=color_mapper, label_standoff=8, width=20, height=300,\n",
    "                     border_line_color=None, location=(0,0), orientation='vertical')\n",
    "p2.add_layout(color_bar, 'right')"
   ]
  },
  {
   "cell_type": "code",
   "execution_count": 53,
   "metadata": {},
   "outputs": [],
   "source": [
    "# Bimodal Season 2022\n",
    "color_mapper1 = LinearColorMapper(palette=\"RdBu10\", low=3.0, high=3.5)\n",
    "p3 = figure(title=' Bimodal_ MAM Season  Yield(mt/Ha) - 2023',\n",
    "           outer_width=350, outer_height=300)\n",
    "\n",
    "p3.multi_line('xs','ys', source=country_geo_source,\n",
    "            line_color='black', line_width=0.5)\n",
    "\n",
    "p3.patches('xs','ys', source=geo_source_mam_2023,\n",
    "          fill_color={'field': 'yield', 'transform': color_mapper1},\n",
    "          fill_alpha=0.7, line_color='black', line_width=0.5)\n",
    "\n",
    "hover = HoverTool(tooltips=[('District', '@cname'), ('Yield', '@yield')])\n",
    "p3.add_tools(hover)\n",
    "\n",
    "color_bar = ColorBar(color_mapper=color_mapper1, label_standoff=8, width=20, height=300,\n",
    "                     border_line_color=None, location=(0,0), orientation='vertical')\n",
    "p3.add_layout(color_bar, 'right')"
   ]
  },
  {
   "cell_type": "code",
   "execution_count": 54,
   "metadata": {},
   "outputs": [],
   "source": [
    "# Bimodal Season 2022\n",
    "color_mapper1 = LinearColorMapper(palette=\"RdBu10\", low=3.0, high=3.5)\n",
    "p4 = figure(title='Bimodal_OND Season  Yield(mt/ha) - 2022',\n",
    "           outer_width=350, outer_height=300)\n",
    "\n",
    "p4.multi_line('xs','ys', source=country_geo_source,\n",
    "            line_color='black', line_width=0.5)\n",
    "\n",
    "p4.patches('xs','ys', source=geo_source_ond_2022,\n",
    "          fill_color={'field': 'yield', 'transform': color_mapper1},\n",
    "          fill_alpha=0.7, line_color='black', line_width=0.5)\n",
    "\n",
    "hover = HoverTool(tooltips=[('District', '@cname'), ('Yield', '@yield')])\n",
    "p4.add_tools(hover)\n",
    "\n",
    "color_bar = ColorBar(color_mapper=color_mapper1, label_standoff=8, width=20, height=300,\n",
    "                     border_line_color=None, location=(0,0), orientation='vertical')\n",
    "p4.add_layout(color_bar, 'right')"
   ]
  },
  {
   "cell_type": "code",
   "execution_count": 55,
   "metadata": {},
   "outputs": [],
   "source": [
    "\n",
    "grid=gridplot([ p2, p3, p4, p1],ncols=2, width=650, height=600)\n",
    "# grid = gridplot([[p2, p3], [None, p4]], width=650, height=600)\n",
    "show(grid)"
   ]
  },
  {
   "cell_type": "code",
   "execution_count": 56,
   "metadata": {},
   "outputs": [
    {
     "name": "stderr",
     "output_type": "stream",
     "text": [
      "C:\\Users\\kasit\\AppData\\Local\\Temp\\ipykernel_4632\\1104631151.py:3: UserWarning: save() called but no resources were supplied and output_file(...) was never called, defaulting to resources.CDN\n",
      "  save(grid, filename='../tanzania.html', title='Maize Yield Maps')\n"
     ]
    },
    {
     "data": {
      "text/plain": [
       "'d:\\\\RONO\\\\rheas\\\\maize_crop_modeling\\\\tanzania.html'"
      ]
     },
     "execution_count": 56,
     "metadata": {},
     "output_type": "execute_result"
    }
   ],
   "source": [
    "from bokeh.io import save\n",
    "# # # specify the output file name and location\n",
    "save(grid, filename='../tanzania.html', title='Maize Yield Maps')"
   ]
  }
 ],
 "metadata": {
  "kernelspec": {
   "display_name": "Python 3",
   "language": "python",
   "name": "python3"
  },
  "language_info": {
   "codemirror_mode": {
    "name": "ipython",
    "version": 3
   },
   "file_extension": ".py",
   "mimetype": "text/x-python",
   "name": "python",
   "nbconvert_exporter": "python",
   "pygments_lexer": "ipython3",
   "version": "3.11.0"
  },
  "orig_nbformat": 4,
  "vscode": {
   "interpreter": {
    "hash": "f745412fe046abefa732567d83acd42b32594d10d0c166ca5878f9c42d7fed86"
   }
  }
 },
 "nbformat": 4,
 "nbformat_minor": 2
}
