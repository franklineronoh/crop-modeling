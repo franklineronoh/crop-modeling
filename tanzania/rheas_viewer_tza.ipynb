{
 "cells": [
  {
   "cell_type": "code",
   "execution_count": 1,
   "metadata": {},
   "outputs": [],
   "source": [
    "# importing modules\n",
    "import pandas as pd\n",
    "import numpy as np\n",
    "import pandas as pd\n",
    "import geopandas as gpd\n",
    "from bokeh.layouts import gridplot\n",
    "from bokeh.plotting import figure, show\n",
    "from bokeh.models import GeoJSONDataSource, ColumnDataSource, HoverTool\n",
    "from bokeh.palettes import Viridis256, Inferno256, Magma256\n",
    "from bokeh.palettes import BrBG, PiYG, RdGy, RdYlGn, YlGnBu\n",
    "from bokeh.models import LinearColorMapper, ColorBar\n",
    "#import streamlit as st\n",
    "# #from streamlit_folium import st_folium\n",
    "#import folium\n",
    "#from leaflet import Map, GeoJSON"
   ]
  },
  {
   "cell_type": "code",
   "execution_count": 2,
   "metadata": {},
   "outputs": [],
   "source": [
    "# Reading the data\n",
    "# rheas_unimodal=pd.read_csv('data/tza_n_25_tamsat_unimodal_2015_2023_maize.csv')\n",
    "# rheas_bimodal=pd.read_csv('data/tza_n_25_bimodal_2015_2023_maize.csv')\n",
    "rheas_unimodal=pd.read_csv('data/tza_n_25_tamsat_unimodal_newmask_2022_2023_maize.csv')\n",
    "rheas_bimodal=pd.read_csv('data/tza_n_25_tamsat_bimodal_newmask_2022_2023_maize.csv')\n",
    "\n"
   ]
  },
  {
   "cell_type": "code",
   "execution_count": 3,
   "metadata": {},
   "outputs": [],
   "source": [
    "# change dates to months or years\n",
    "# unimodal\n",
    "rheas_unimodal['planting']=pd.to_datetime(rheas_unimodal['planting'], format='ISO8601')\n",
    "rheas_unimodal['harvest']=pd.to_datetime(rheas_unimodal['harvest'], format='ISO8601')\n",
    "rheas_unimodal['harvest']=pd.to_datetime(rheas_unimodal['harvest'], format='ISO8601')\n",
    "rheas_unimodal['year'] = rheas_unimodal['planting'].dt.year\n",
    "rheas_unimodal['year'] = rheas_unimodal['planting'].dt.year\n",
    "rheas_unimodal['yield']=rheas_unimodal['gwad']/1000\n",
    "# rheas_raw['harvest']=pd.to_datetime(rheas_raw['harvest'], format='%Y/%m/%d')\n",
    "\n",
    "# bimodal\n",
    "rheas_bimodal['planting']=pd.to_datetime(rheas_bimodal['planting'], format='ISO8601')\n",
    "rheas_bimodal['harvest']=pd.to_datetime(rheas_bimodal['harvest'], format='ISO8601')\n",
    "rheas_bimodal['harvest']=pd.to_datetime(rheas_bimodal['harvest'], format='ISO8601')\n",
    "rheas_bimodal['year'] = rheas_bimodal['planting'].dt.year\n",
    "rheas_bimodal['year'] = rheas_bimodal['planting'].dt.year\n",
    "rheas_bimodal['yield']=rheas_bimodal['gwad']/1000"
   ]
  },
  {
   "cell_type": "code",
   "execution_count": 4,
   "metadata": {},
   "outputs": [
    {
     "data": {
      "text/plain": [
       "array(['Babati Urban', 'Bukombe', 'Gairo', 'Muleba', 'Mvomero', 'Arusha',\n",
       "       'Mbogwe', 'Busega', 'Serengeti', 'Ngara', 'Kwimba', 'Kilindi',\n",
       "       'Mwanga', 'Maswa', 'Kibaha', 'Kilosa', 'Hai', 'Handeni', 'Bunda',\n",
       "       'Tarime', 'Kyerwa', 'Kibaha Urban', 'Bagamoyo', 'Arusha Urban',\n",
       "       'Bukoba Rural', 'Mbulu', 'Same', 'Kishapu', 'Bariadi', 'Sengerema',\n",
       "       'Kisarawe', 'Musoma Rural', 'Kiteto', 'Ilemela', 'Hanang', 'Chato',\n",
       "       'Morogoro Rural', 'Korogwe', 'Nyamagana', 'Kahama', 'Magu',\n",
       "       'Lushoto', 'Kakonko', 'Simanjiro', 'Shinyanga Urban', 'Siha',\n",
       "       'Missenyi', 'Shinyanga Rural', 'Kinondoni', 'Longido', 'Monduli',\n",
       "       'Morogoro Urban', 'Pangani', 'Itilima', 'Meatu', 'Moshi Urban',\n",
       "       'Misungwi', 'Rombo', 'Geita', 'Biharamulo', 'Moshi Rural', 'Meru',\n",
       "       'Ngorongoro', 'Musoma Urban', 'Temeke', 'Karagwe', 'Butiama',\n",
       "       \"Nyang'wale\", 'Mkuranga', 'Babati', 'Rorya', 'Ilala', 'Muheza',\n",
       "       'Karatu', 'Ukerewe', 'Mkinga', 'Tanga'], dtype=object)"
      ]
     },
     "execution_count": 4,
     "metadata": {},
     "output_type": "execute_result"
    }
   ],
   "source": [
    "# mask off water bodies eg Lake Victoria\n",
    "districts1=['Kati','Wete', 'Magharibi','Micheweni','Kahama Township Authority','Kahama Township Authority',\n",
    "            'Korogwe Township Authority',\"Kaskazini 'A'\",\"Kaskazini 'B'\",'Handeni Township Authority']\n",
    "\n",
    "\n",
    "def exclude_districts(dataframe,districts):\n",
    "    set2=set(list(dataframe.cname.unique()))-set(districts)\n",
    "    districts2=list(set2)\n",
    "    list1=[]\n",
    "    for d in districts2:\n",
    "        df1=dataframe.loc[dataframe['cname']==d]\n",
    "        list1.append(df1)\n",
    "    df2=pd.concat(list1) \n",
    "    return df2\n",
    "\n",
    "rheas_unimodal=exclude_districts(dataframe=rheas_unimodal,districts=districts1)\n",
    "rheas_bimodal=exclude_districts(dataframe=rheas_bimodal,districts=districts1)\n",
    "rheas_bimodal.cname.unique()"
   ]
  },
  {
   "cell_type": "code",
   "execution_count": 5,
   "metadata": {},
   "outputs": [],
   "source": [
    "#unimodal (Long Rains) season [9,10,11,12, 1,2,3,4]\n",
    "#  unimodal_season1=[1,2, 3, 4], unimodal_season1 = [9, 10, 11, 12]\n",
    "# unimodal part1\n",
    "rheas_unimodal1=rheas_unimodal\n",
    "unimodal_season1 = ['unimodal', 'unimodal', 'unimodal', 'unimodal','none', 'none', 'none', \n",
    "                   'none', 'none', 'none', 'none', 'none']\n",
    "unimodal_month_to_season1=dict(zip(range(1,13), unimodal_season1))\n",
    "rheas_unimodal1['season']= rheas_unimodal1['planting'].dt.month.map(unimodal_month_to_season1)\n",
    "\n",
    "# unimodal part2\n",
    "rheas_unimodal2=rheas_unimodal\n",
    "unimodal_season2 = ['none', 'none', 'none', 'none','none', 'none', 'none', \n",
    "                   'none', 'unimodal', 'unimodal', 'unimodal', 'unimodal']\n",
    "unimodal_month_to_season2=dict(zip(range(1,13), unimodal_season2))\n",
    "rheas_unimodal2['season']= rheas_unimodal2['planting'].dt.month.map(unimodal_month_to_season2)\n"
   ]
  },
  {
   "cell_type": "code",
   "execution_count": 6,
   "metadata": {},
   "outputs": [],
   "source": [
    "# bimodal MAM and OND seasons MAM =[1, 2, 3, 4], OND =[9, 10, 11]\n",
    "bimodal_season = [1, 2, 3, 4]\n",
    "bimodal_season= ['mam', 'mam', 'mam', 'mam','none', 'none',\n",
    "                       'none', 'none', 'ond', 'ond', 'ond', 'none']\n",
    "bimodal_month_to_season=dict(zip(range(1,13), bimodal_season))\n",
    "rheas_bimodal['season']= rheas_bimodal['planting'].dt.month.map(bimodal_month_to_season)\n"
   ]
  },
  {
   "cell_type": "code",
   "execution_count": 7,
   "metadata": {},
   "outputs": [],
   "source": [
    "# # Extract data only for the seasons\n",
    "# long rains (unimodal)\n",
    "rheas_unimodal1= rheas_unimodal1.loc[rheas_unimodal1['season']=='unimodal']\n",
    "rheas_unimodal2= rheas_unimodal2.loc[rheas_unimodal2['season']=='unimodal']\n",
    "\n",
    "# bimodal MAM and OND\n",
    "rheas_bimodal_mam=rheas_bimodal.loc[rheas_bimodal['season']=='mam']\n",
    "rheas_bimodal_ond=rheas_bimodal.loc[rheas_bimodal['season']=='ond']\n"
   ]
  },
  {
   "cell_type": "code",
   "execution_count": 8,
   "metadata": {},
   "outputs": [],
   "source": [
    "\n",
    "# extract data for 2022 and 2023 only\n",
    "# unimodal\n",
    "rheas_unimodal_2022_2=rheas_unimodal2.loc[rheas_unimodal2['year']==2022].reset_index()\n",
    "rheas_unimodal_2023_1=rheas_unimodal1.loc[rheas_unimodal1['year']==2023].reset_index()\n",
    "rheas_unimodal_2022=pd.concat([rheas_unimodal_2022_2,rheas_unimodal_2023_1],axis=0)\n",
    "\n",
    "# bimodal\n",
    "rheas_bimodal_mam_2022=rheas_bimodal_mam.loc[rheas_bimodal_mam['year']==2022]\n",
    "rheas_bimodal_mam_2023=rheas_bimodal_mam.loc[rheas_bimodal_mam['year']==2023]\n",
    "rheas_bimodal_ond_2022=rheas_bimodal_ond.loc[rheas_bimodal_ond['year']==2022]"
   ]
  },
  {
   "cell_type": "code",
   "execution_count": 9,
   "metadata": {},
   "outputs": [
    {
     "data": {
      "text/plain": [
       "2.971375"
      ]
     },
     "execution_count": 9,
     "metadata": {},
     "output_type": "execute_result"
    }
   ],
   "source": [
    "# # aggregate \n",
    "rheas_unimodal_2022=rheas_unimodal_2022.groupby(['cname'], as_index=False).agg({'yield': 'mean'})\n",
    "rheas_bimodal_mam_2022=rheas_bimodal_mam_2022.groupby(['cname'], as_index=False).agg({'yield': 'mean'})\n",
    "rheas_bimodal_mam_2023=rheas_bimodal_mam_2023.groupby(['cname'], as_index=False).agg({'yield': 'mean'})\n",
    "rheas_bimodal_ond_2022=rheas_bimodal_ond_2022.groupby(['cname'], as_index=False).agg({'yield': 'mean'})\n",
    "rheas_bimodal_ond_2022['yield'].min()"
   ]
  },
  {
   "cell_type": "code",
   "execution_count": 10,
   "metadata": {},
   "outputs": [],
   "source": [
    "# Read shapefiles and rename columns\n",
    "country_shapefile = gpd.read_file(\"shp/gadm36_TZA_0.shp\")\n",
    "# tanzania_unimodal_shp = gpd.read_file(\"../../../../gadm36_TZA_2_Unimodal.shp\")\n",
    "# tanzania_bimodal_shp = gpd.read_file(\"../../../../gadm36_TZA_2_Bimodal.shp\")\n",
    "\n",
    "tanzania_unimodal_shp = gpd.read_file(\"shp/tza_unimodal.shp\")\n",
    "tanzania_bimodal_shp = gpd.read_file(\"shp/tza_bimodal.shp\")\n",
    "\n",
    "\n",
    "# Rename kenya_shp \n",
    "tanzania_unimodal_shp=tanzania_unimodal_shp.rename(columns={'NAME1':'cname'})\n",
    "tanzania_bimodal_shp=tanzania_bimodal_shp.rename(columns={'NAME1':'cname'})\n",
    "# # tanzania_bimodal_shp=tanzania_unimodal_shp.rename(columns={'NAME_2':'cname'})\n",
    "# tanzania_unimodal_shp.to_file('../../../../shp/tza_unimodal.shp')\n",
    "# tanzania_bimodal_shp.to_file('../../../../shp/tza_bimodal.shp')\n",
    "# tanzania_bimodal_shp['cname']\n",
    "\n",
    "# tanzania_unimodal_shp.columns\n",
    "# # tanzania_unimodal_shp.cname.unique()\n",
    "# tanzania_unimodal_shp.cname.unique()\n",
    "# rheas_unimodal.cname.unique()\n",
    "# # tanzania_bimodal_shp.cname.unique()"
   ]
  },
  {
   "cell_type": "code",
   "execution_count": 11,
   "metadata": {},
   "outputs": [
    {
     "data": {
      "text/plain": [
       "2.952"
      ]
     },
     "execution_count": 11,
     "metadata": {},
     "output_type": "execute_result"
    }
   ],
   "source": [
    "# Merge data into shapefiles\n",
    "unimodal_2022 = pd.merge(tanzania_unimodal_shp, rheas_unimodal_2022, on=\"cname\")\n",
    "bimodal_mam_2022= pd.merge(tanzania_bimodal_shp, rheas_bimodal_mam_2022, on=\"cname\")\n",
    "bimodal_mam_2023= pd.merge(tanzania_bimodal_shp, rheas_bimodal_mam_2023, on=\"cname\")\n",
    "bimodal_ond_2022= pd.merge(tanzania_bimodal_shp, rheas_bimodal_ond_2022, on=\"cname\")\n",
    "unimodal_2022['yield'].min()"
   ]
  },
  {
   "cell_type": "code",
   "execution_count": 12,
   "metadata": {},
   "outputs": [],
   "source": [
    "# create list of min and max values\n",
    "list1=[unimodal_2022['yield'].min(),unimodal_2022['yield'].max(),\n",
    "       bimodal_mam_2022['yield'].min(),bimodal_mam_2022['yield'].max(),\n",
    "       bimodal_mam_2023['yield'].min(),bimodal_mam_2023['yield'].max(),bimodal_ond_2022['yield'].min(),bimodal_ond_2022['yield'].max()]\n",
    "value=(list1)"
   ]
  },
  {
   "cell_type": "code",
   "execution_count": 13,
   "metadata": {},
   "outputs": [],
   "source": [
    "geo_source_unimodal_2022 = GeoJSONDataSource(geojson=unimodal_2022.to_json())\n",
    "geo_source_mam_2022= GeoJSONDataSource(geojson=bimodal_mam_2022.to_json())\n",
    "geo_source_mam_2023= GeoJSONDataSource(geojson=bimodal_mam_2023.to_json())\n",
    "geo_source_ond_2022= GeoJSONDataSource(geojson=bimodal_ond_2022.to_json())\n",
    "country_geo_source = GeoJSONDataSource(geojson=country_shapefile.to_json())"
   ]
  },
  {
   "cell_type": "code",
   "execution_count": 14,
   "metadata": {},
   "outputs": [],
   "source": [
    "color_mapper = LinearColorMapper(palette=\"RdBu10\", low=min(value).round(1), high=max(value).round(1))\n",
    "p1 = figure(title='Unimodal_Long Rains Season Yield (mt/ha) - 2022',\n",
    "           outer_width=350, outer_height=300)\n",
    "\n",
    "p1.multi_line('xs','ys', source=country_geo_source,\n",
    "            line_color='black', line_width=0.5)\n",
    "\n",
    "p1.patches('xs','ys', source=geo_source_unimodal_2022,\n",
    "          fill_color={'field': 'yield', 'transform': color_mapper},\n",
    "          fill_alpha=0.7, line_color='black', line_width=0.5)\n",
    "\n",
    "hover = HoverTool(tooltips=[('District: ', '@cname'), ('Yield', '@yield')])\n",
    "p1.add_tools(hover)\n",
    "\n",
    "color_bar = ColorBar(color_mapper=color_mapper, label_standoff=8, width=20, height=300,\n",
    "                     border_line_color=None, location=(0,0), orientation='vertical')\n",
    "p1.add_layout(color_bar, 'right')"
   ]
  },
  {
   "cell_type": "code",
   "execution_count": 15,
   "metadata": {},
   "outputs": [],
   "source": [
    "color_mapper = LinearColorMapper(palette=\"RdBu10\", low=min(value).round(1), high=max(value).round(1))\n",
    "p2 = figure(title='Bimodal_MAM Season Yield (mt/ha) - 2022',\n",
    "           outer_width=350, outer_height=300)\n",
    "\n",
    "p2.multi_line('xs','ys', source=country_geo_source,\n",
    "            line_color='black', line_width=0.5)\n",
    "\n",
    "p2.patches('xs','ys', source=geo_source_mam_2022,\n",
    "          fill_color={'field': 'yield', 'transform': color_mapper},\n",
    "          fill_alpha=0.7, line_color='black', line_width=0.5)\n",
    "\n",
    "hover = HoverTool(tooltips=[('District: ', '@cname'), ('Yield', '@yield')])\n",
    "p2.add_tools(hover)\n",
    "\n",
    "color_bar = ColorBar(color_mapper=color_mapper, label_standoff=8, width=20, height=300,\n",
    "                     border_line_color=None, location=(0,0), orientation='vertical')\n",
    "p2.add_layout(color_bar, 'right')"
   ]
  },
  {
   "cell_type": "code",
   "execution_count": 16,
   "metadata": {},
   "outputs": [],
   "source": [
    "# Bimodal Season 2022\n",
    "color_mapper1 = LinearColorMapper(palette=\"RdBu10\", low=min(value).round(1), high=max(value).round(1))\n",
    "p3 = figure(title=' Bimodal_ MAM Season  Yield(mt/Ha) - 2023',\n",
    "           outer_width=350, outer_height=300)\n",
    "\n",
    "p3.multi_line('xs','ys', source=country_geo_source,\n",
    "            line_color='black', line_width=0.5)\n",
    "\n",
    "p3.patches('xs','ys', source=geo_source_mam_2023,\n",
    "          fill_color={'field': 'yield', 'transform': color_mapper1},\n",
    "          fill_alpha=0.7, line_color='black', line_width=0.5)\n",
    "\n",
    "hover = HoverTool(tooltips=[('District', '@cname'), ('Yield', '@yield')])\n",
    "p3.add_tools(hover)\n",
    "\n",
    "color_bar = ColorBar(color_mapper=color_mapper1, label_standoff=8, width=20, height=300,\n",
    "                     border_line_color=None, location=(0,0), orientation='vertical')\n",
    "p3.add_layout(color_bar, 'right')"
   ]
  },
  {
   "cell_type": "code",
   "execution_count": 17,
   "metadata": {},
   "outputs": [],
   "source": [
    "# Bimodal Season 2022\n",
    "color_mapper1 = LinearColorMapper(palette=\"RdBu10\", low=min(value).round(1), high=max(value).round(1))\n",
    "p4 = figure(title='Bimodal_OND Season  Yield(mt/ha) - 2022',\n",
    "           outer_width=350, outer_height=300)\n",
    "\n",
    "p4.multi_line('xs','ys', source=country_geo_source,\n",
    "            line_color='black', line_width=0.5)\n",
    "\n",
    "p4.patches('xs','ys', source=geo_source_ond_2022,\n",
    "          fill_color={'field': 'yield', 'transform': color_mapper1},\n",
    "          fill_alpha=0.7, line_color='black', line_width=0.5)\n",
    "\n",
    "hover = HoverTool(tooltips=[('District', '@cname'), ('Yield', '@yield')])\n",
    "p4.add_tools(hover)\n",
    "\n",
    "color_bar = ColorBar(color_mapper=color_mapper1, label_standoff=8, width=20, height=300,\n",
    "                     border_line_color=None, location=(0,0), orientation='vertical')\n",
    "p4.add_layout(color_bar, 'right')"
   ]
  },
  {
   "cell_type": "code",
   "execution_count": 18,
   "metadata": {},
   "outputs": [],
   "source": [
    "\n",
    "grid=gridplot([ p2, p3, p4, p1],ncols=3, width=650, height=600)\n",
    "# grid = gridplot([[p2, p3], [None, p4]], width=650, height=600)\n",
    "show(grid)"
   ]
  },
  {
   "cell_type": "code",
   "execution_count": 19,
   "metadata": {},
   "outputs": [
    {
     "name": "stderr",
     "output_type": "stream",
     "text": [
      "C:\\Users\\kasit\\AppData\\Local\\Temp\\ipykernel_16528\\1104631151.py:3: UserWarning: save() called but no resources were supplied and output_file(...) was never called, defaulting to resources.CDN\n",
      "  save(grid, filename='../tanzania.html', title='Maize Yield Maps')\n"
     ]
    },
    {
     "data": {
      "text/plain": [
       "'d:\\\\RONO\\\\rheas\\\\maize_crop_modeling\\\\crop-modeling\\\\tanzania.html'"
      ]
     },
     "execution_count": 19,
     "metadata": {},
     "output_type": "execute_result"
    }
   ],
   "source": [
    "from bokeh.io import save\n",
    "# # # specify the output file name and location\n",
    "save(grid, filename='../tanzania.html', title='Maize Yield Maps')"
   ]
  }
 ],
 "metadata": {
  "kernelspec": {
   "display_name": "Python 3",
   "language": "python",
   "name": "python3"
  },
  "language_info": {
   "codemirror_mode": {
    "name": "ipython",
    "version": 3
   },
   "file_extension": ".py",
   "mimetype": "text/x-python",
   "name": "python",
   "nbconvert_exporter": "python",
   "pygments_lexer": "ipython3",
   "version": "3.11.0"
  },
  "orig_nbformat": 4,
  "vscode": {
   "interpreter": {
    "hash": "f745412fe046abefa732567d83acd42b32594d10d0c166ca5878f9c42d7fed86"
   }
  }
 },
 "nbformat": 4,
 "nbformat_minor": 2
}
